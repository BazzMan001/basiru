{
 "cells": [
  {
   "cell_type": "code",
   "execution_count": 2,
   "id": "f24f8cb4",
   "metadata": {},
   "outputs": [],
   "source": [
    "#Import matplotlib.pyplot as plt and seaborn as sns \n",
    "import matplotlib.pyplot as plt\n",
    "import seaborn as sns\n",
    "import numpy as np\n",
    "#Import pandas as pd\n",
    "import pandas as pd\n",
    "from sklearn.preprocessing import MinMaxScaler\n",
    "from sklearn.model_selection import train_test_split\n",
    "import sklearn.utils"
   ]
  },
  {
   "cell_type": "code",
   "execution_count": 3,
   "id": "3205104f",
   "metadata": {},
   "outputs": [
    {
     "data": {
      "text/html": [
       "<div>\n",
       "<style scoped>\n",
       "    .dataframe tbody tr th:only-of-type {\n",
       "        vertical-align: middle;\n",
       "    }\n",
       "\n",
       "    .dataframe tbody tr th {\n",
       "        vertical-align: top;\n",
       "    }\n",
       "\n",
       "    .dataframe thead th {\n",
       "        text-align: right;\n",
       "    }\n",
       "</style>\n",
       "<table border=\"1\" class=\"dataframe\">\n",
       "  <thead>\n",
       "    <tr style=\"text-align: right;\">\n",
       "      <th></th>\n",
       "      <th>GFN_name</th>\n",
       "      <th>country_code</th>\n",
       "      <th>ISO Alpha-2 Code</th>\n",
       "      <th>ISO Alpha-3 Code</th>\n",
       "    </tr>\n",
       "  </thead>\n",
       "  <tbody>\n",
       "    <tr>\n",
       "      <th>0</th>\n",
       "      <td>Armenia</td>\n",
       "      <td>1</td>\n",
       "      <td>AM</td>\n",
       "      <td>ARM</td>\n",
       "    </tr>\n",
       "    <tr>\n",
       "      <th>1</th>\n",
       "      <td>Afghanistan</td>\n",
       "      <td>2</td>\n",
       "      <td>AF</td>\n",
       "      <td>AFG</td>\n",
       "    </tr>\n",
       "    <tr>\n",
       "      <th>2</th>\n",
       "      <td>Albania</td>\n",
       "      <td>3</td>\n",
       "      <td>AL</td>\n",
       "      <td>ALB</td>\n",
       "    </tr>\n",
       "    <tr>\n",
       "      <th>3</th>\n",
       "      <td>Algeria</td>\n",
       "      <td>4</td>\n",
       "      <td>DZ</td>\n",
       "      <td>DZA</td>\n",
       "    </tr>\n",
       "    <tr>\n",
       "      <th>4</th>\n",
       "      <td>American Samoa</td>\n",
       "      <td>5</td>\n",
       "      <td>AS</td>\n",
       "      <td>ASM</td>\n",
       "    </tr>\n",
       "  </tbody>\n",
       "</table>\n",
       "</div>"
      ],
      "text/plain": [
       "         GFN_name  country_code ISO Alpha-2 Code ISO Alpha-3 Code\n",
       "0         Armenia             1               AM              ARM\n",
       "1     Afghanistan             2               AF              AFG\n",
       "2         Albania             3               AL              ALB\n",
       "3         Algeria             4               DZ              DZA\n",
       "4  American Samoa             5               AS              ASM"
      ]
     },
     "execution_count": 3,
     "metadata": {},
     "output_type": "execute_result"
    }
   ],
   "source": [
    "df1 = pd.read_csv(\"C:/Users/HP/Downloads/footprint-nfa-2019-edition/footprint-nfa-2019-edition/GFN Country Code Concordance Table.csv\")\n",
    "df1.head()"
   ]
  },
  {
   "cell_type": "code",
   "execution_count": 4,
   "id": "a0dbf0b6",
   "metadata": {},
   "outputs": [
    {
     "data": {
      "text/html": [
       "<div>\n",
       "<style scoped>\n",
       "    .dataframe tbody tr th:only-of-type {\n",
       "        vertical-align: middle;\n",
       "    }\n",
       "\n",
       "    .dataframe tbody tr th {\n",
       "        vertical-align: top;\n",
       "    }\n",
       "\n",
       "    .dataframe thead th {\n",
       "        text-align: right;\n",
       "    }\n",
       "</style>\n",
       "<table border=\"1\" class=\"dataframe\">\n",
       "  <thead>\n",
       "    <tr style=\"text-align: right;\">\n",
       "      <th></th>\n",
       "      <th>country</th>\n",
       "      <th>year</th>\n",
       "      <th>country_code</th>\n",
       "      <th>record</th>\n",
       "      <th>crop_land</th>\n",
       "      <th>grazing_land</th>\n",
       "      <th>forest_land</th>\n",
       "      <th>fishing_ground</th>\n",
       "      <th>built_up_land</th>\n",
       "      <th>carbon</th>\n",
       "      <th>total</th>\n",
       "      <th>QScore</th>\n",
       "    </tr>\n",
       "  </thead>\n",
       "  <tbody>\n",
       "    <tr>\n",
       "      <th>0</th>\n",
       "      <td>Armenia</td>\n",
       "      <td>1992</td>\n",
       "      <td>1</td>\n",
       "      <td>AreaPerCap</td>\n",
       "      <td>0.140292</td>\n",
       "      <td>0.199546</td>\n",
       "      <td>0.097188051</td>\n",
       "      <td>0.036888</td>\n",
       "      <td>0.029320</td>\n",
       "      <td>0.000000</td>\n",
       "      <td>5.032351e-01</td>\n",
       "      <td>3A</td>\n",
       "    </tr>\n",
       "    <tr>\n",
       "      <th>1</th>\n",
       "      <td>Armenia</td>\n",
       "      <td>1992</td>\n",
       "      <td>1</td>\n",
       "      <td>AreaTotHA</td>\n",
       "      <td>483000.000000</td>\n",
       "      <td>687000.000000</td>\n",
       "      <td>334600</td>\n",
       "      <td>127000.000000</td>\n",
       "      <td>100943.000800</td>\n",
       "      <td>0.000000</td>\n",
       "      <td>1.732543e+06</td>\n",
       "      <td>3A</td>\n",
       "    </tr>\n",
       "    <tr>\n",
       "      <th>2</th>\n",
       "      <td>Armenia</td>\n",
       "      <td>1992</td>\n",
       "      <td>1</td>\n",
       "      <td>BiocapPerCap</td>\n",
       "      <td>0.159804</td>\n",
       "      <td>0.135261</td>\n",
       "      <td>0.084003213</td>\n",
       "      <td>0.013742</td>\n",
       "      <td>0.033398</td>\n",
       "      <td>0.000000</td>\n",
       "      <td>4.262086e-01</td>\n",
       "      <td>3A</td>\n",
       "    </tr>\n",
       "    <tr>\n",
       "      <th>3</th>\n",
       "      <td>Armenia</td>\n",
       "      <td>1992</td>\n",
       "      <td>1</td>\n",
       "      <td>BiocapTotGHA</td>\n",
       "      <td>550176.242700</td>\n",
       "      <td>465677.972200</td>\n",
       "      <td>289207.1078</td>\n",
       "      <td>47311.551720</td>\n",
       "      <td>114982.279300</td>\n",
       "      <td>0.000000</td>\n",
       "      <td>1.467355e+06</td>\n",
       "      <td>3A</td>\n",
       "    </tr>\n",
       "    <tr>\n",
       "      <th>4</th>\n",
       "      <td>Armenia</td>\n",
       "      <td>1992</td>\n",
       "      <td>1</td>\n",
       "      <td>EFConsPerCap</td>\n",
       "      <td>0.387510</td>\n",
       "      <td>0.189462</td>\n",
       "      <td>1.26E-06</td>\n",
       "      <td>0.004165</td>\n",
       "      <td>0.033398</td>\n",
       "      <td>1.114093</td>\n",
       "      <td>1.728629e+00</td>\n",
       "      <td>3A</td>\n",
       "    </tr>\n",
       "  </tbody>\n",
       "</table>\n",
       "</div>"
      ],
      "text/plain": [
       "   country  year  country_code        record      crop_land   grazing_land  \\\n",
       "0  Armenia  1992             1    AreaPerCap       0.140292       0.199546   \n",
       "1  Armenia  1992             1     AreaTotHA  483000.000000  687000.000000   \n",
       "2  Armenia  1992             1  BiocapPerCap       0.159804       0.135261   \n",
       "3  Armenia  1992             1  BiocapTotGHA  550176.242700  465677.972200   \n",
       "4  Armenia  1992             1  EFConsPerCap       0.387510       0.189462   \n",
       "\n",
       "   forest_land  fishing_ground  built_up_land    carbon         total QScore  \n",
       "0  0.097188051        0.036888       0.029320  0.000000  5.032351e-01     3A  \n",
       "1       334600   127000.000000  100943.000800  0.000000  1.732543e+06     3A  \n",
       "2  0.084003213        0.013742       0.033398  0.000000  4.262086e-01     3A  \n",
       "3  289207.1078    47311.551720  114982.279300  0.000000  1.467355e+06     3A  \n",
       "4     1.26E-06        0.004165       0.033398  1.114093  1.728629e+00     3A  "
      ]
     },
     "execution_count": 4,
     "metadata": {},
     "output_type": "execute_result"
    }
   ],
   "source": [
    "df2 = pd.read_csv(\"C:/Users/HP/Downloads/footprint-nfa-2019-edition/footprint-nfa-2019-edition/NFA 2019 public_data.csv\", low_memory=False)\n",
    "df2.head()"
   ]
  },
  {
   "cell_type": "code",
   "execution_count": 5,
   "id": "780fb3e5",
   "metadata": {},
   "outputs": [
    {
     "data": {
      "text/plain": [
       "(72239, 15)"
      ]
     },
     "execution_count": 5,
     "metadata": {},
     "output_type": "execute_result"
    }
   ],
   "source": [
    "df_big = pd.merge(df1, df2, how = \"outer\")\n",
    "df_big.shape"
   ]
  },
  {
   "cell_type": "code",
   "execution_count": 6,
   "id": "15a4b925",
   "metadata": {},
   "outputs": [
    {
     "data": {
      "text/plain": [
       "(72186, 15)"
      ]
     },
     "execution_count": 6,
     "metadata": {},
     "output_type": "execute_result"
    }
   ],
   "source": [
    "#df_big = pd.merge(df1, df2, how = \"inner\")\n",
    "df_big.shape"
   ]
  },
  {
   "cell_type": "code",
   "execution_count": 7,
   "id": "9bc72009",
   "metadata": {},
   "outputs": [
    {
     "data": {
      "text/html": [
       "<div>\n",
       "<style scoped>\n",
       "    .dataframe tbody tr th:only-of-type {\n",
       "        vertical-align: middle;\n",
       "    }\n",
       "\n",
       "    .dataframe tbody tr th {\n",
       "        vertical-align: top;\n",
       "    }\n",
       "\n",
       "    .dataframe thead th {\n",
       "        text-align: right;\n",
       "    }\n",
       "</style>\n",
       "<table border=\"1\" class=\"dataframe\">\n",
       "  <thead>\n",
       "    <tr style=\"text-align: right;\">\n",
       "      <th></th>\n",
       "      <th>GFN_name</th>\n",
       "      <th>country_code</th>\n",
       "      <th>ISO Alpha-2 Code</th>\n",
       "      <th>ISO Alpha-3 Code</th>\n",
       "      <th>country</th>\n",
       "      <th>year</th>\n",
       "      <th>record</th>\n",
       "      <th>crop_land</th>\n",
       "      <th>grazing_land</th>\n",
       "      <th>forest_land</th>\n",
       "      <th>fishing_ground</th>\n",
       "      <th>built_up_land</th>\n",
       "      <th>carbon</th>\n",
       "      <th>total</th>\n",
       "      <th>QScore</th>\n",
       "    </tr>\n",
       "  </thead>\n",
       "  <tbody>\n",
       "    <tr>\n",
       "      <th>0</th>\n",
       "      <td>Armenia</td>\n",
       "      <td>1</td>\n",
       "      <td>AM</td>\n",
       "      <td>ARM</td>\n",
       "      <td>Armenia</td>\n",
       "      <td>1992</td>\n",
       "      <td>AreaPerCap</td>\n",
       "      <td>0.140292</td>\n",
       "      <td>0.199546</td>\n",
       "      <td>0.097188051</td>\n",
       "      <td>0.036888</td>\n",
       "      <td>0.029320</td>\n",
       "      <td>0.000000</td>\n",
       "      <td>5.032351e-01</td>\n",
       "      <td>3A</td>\n",
       "    </tr>\n",
       "    <tr>\n",
       "      <th>1</th>\n",
       "      <td>Armenia</td>\n",
       "      <td>1</td>\n",
       "      <td>AM</td>\n",
       "      <td>ARM</td>\n",
       "      <td>Armenia</td>\n",
       "      <td>1992</td>\n",
       "      <td>AreaTotHA</td>\n",
       "      <td>483000.000000</td>\n",
       "      <td>687000.000000</td>\n",
       "      <td>334600</td>\n",
       "      <td>127000.000000</td>\n",
       "      <td>100943.000800</td>\n",
       "      <td>0.000000</td>\n",
       "      <td>1.732543e+06</td>\n",
       "      <td>3A</td>\n",
       "    </tr>\n",
       "    <tr>\n",
       "      <th>2</th>\n",
       "      <td>Armenia</td>\n",
       "      <td>1</td>\n",
       "      <td>AM</td>\n",
       "      <td>ARM</td>\n",
       "      <td>Armenia</td>\n",
       "      <td>1992</td>\n",
       "      <td>BiocapPerCap</td>\n",
       "      <td>0.159804</td>\n",
       "      <td>0.135261</td>\n",
       "      <td>0.084003213</td>\n",
       "      <td>0.013742</td>\n",
       "      <td>0.033398</td>\n",
       "      <td>0.000000</td>\n",
       "      <td>4.262086e-01</td>\n",
       "      <td>3A</td>\n",
       "    </tr>\n",
       "    <tr>\n",
       "      <th>3</th>\n",
       "      <td>Armenia</td>\n",
       "      <td>1</td>\n",
       "      <td>AM</td>\n",
       "      <td>ARM</td>\n",
       "      <td>Armenia</td>\n",
       "      <td>1992</td>\n",
       "      <td>BiocapTotGHA</td>\n",
       "      <td>550176.242700</td>\n",
       "      <td>465677.972200</td>\n",
       "      <td>289207.1078</td>\n",
       "      <td>47311.551720</td>\n",
       "      <td>114982.279300</td>\n",
       "      <td>0.000000</td>\n",
       "      <td>1.467355e+06</td>\n",
       "      <td>3A</td>\n",
       "    </tr>\n",
       "    <tr>\n",
       "      <th>4</th>\n",
       "      <td>Armenia</td>\n",
       "      <td>1</td>\n",
       "      <td>AM</td>\n",
       "      <td>ARM</td>\n",
       "      <td>Armenia</td>\n",
       "      <td>1992</td>\n",
       "      <td>EFConsPerCap</td>\n",
       "      <td>0.387510</td>\n",
       "      <td>0.189462</td>\n",
       "      <td>1.26E-06</td>\n",
       "      <td>0.004165</td>\n",
       "      <td>0.033398</td>\n",
       "      <td>1.114093</td>\n",
       "      <td>1.728629e+00</td>\n",
       "      <td>3A</td>\n",
       "    </tr>\n",
       "  </tbody>\n",
       "</table>\n",
       "</div>"
      ],
      "text/plain": [
       "  GFN_name  country_code ISO Alpha-2 Code ISO Alpha-3 Code  country  year  \\\n",
       "0  Armenia             1               AM              ARM  Armenia  1992   \n",
       "1  Armenia             1               AM              ARM  Armenia  1992   \n",
       "2  Armenia             1               AM              ARM  Armenia  1992   \n",
       "3  Armenia             1               AM              ARM  Armenia  1992   \n",
       "4  Armenia             1               AM              ARM  Armenia  1992   \n",
       "\n",
       "         record      crop_land   grazing_land  forest_land  fishing_ground  \\\n",
       "0    AreaPerCap       0.140292       0.199546  0.097188051        0.036888   \n",
       "1     AreaTotHA  483000.000000  687000.000000       334600   127000.000000   \n",
       "2  BiocapPerCap       0.159804       0.135261  0.084003213        0.013742   \n",
       "3  BiocapTotGHA  550176.242700  465677.972200  289207.1078    47311.551720   \n",
       "4  EFConsPerCap       0.387510       0.189462     1.26E-06        0.004165   \n",
       "\n",
       "   built_up_land    carbon         total QScore  \n",
       "0       0.029320  0.000000  5.032351e-01     3A  \n",
       "1  100943.000800  0.000000  1.732543e+06     3A  \n",
       "2       0.033398  0.000000  4.262086e-01     3A  \n",
       "3  114982.279300  0.000000  1.467355e+06     3A  \n",
       "4       0.033398  1.114093  1.728629e+00     3A  "
      ]
     },
     "execution_count": 7,
     "metadata": {},
     "output_type": "execute_result"
    }
   ],
   "source": [
    "df_big.head()"
   ]
  },
  {
   "cell_type": "code",
   "execution_count": 8,
   "id": "4aa33543",
   "metadata": {},
   "outputs": [
    {
     "name": "stdout",
     "output_type": "stream",
     "text": [
      "<class 'pandas.core.frame.DataFrame'>\n",
      "RangeIndex: 72186 entries, 0 to 72185\n",
      "Data columns (total 15 columns):\n",
      " #   Column            Non-Null Count  Dtype  \n",
      "---  ------            --------------  -----  \n",
      " 0   GFN_name          72186 non-null  object \n",
      " 1   country_code      72186 non-null  int64  \n",
      " 2   ISO Alpha-2 Code  70826 non-null  object \n",
      " 3   ISO Alpha-3 Code  71082 non-null  object \n",
      " 4   country           72186 non-null  object \n",
      " 5   year              72186 non-null  int64  \n",
      " 6   record            72186 non-null  object \n",
      " 7   crop_land         51714 non-null  float64\n",
      " 8   grazing_land      51714 non-null  float64\n",
      " 9   forest_land       51714 non-null  object \n",
      " 10  fishing_ground    51713 non-null  float64\n",
      " 11  built_up_land     51713 non-null  float64\n",
      " 12  carbon            51713 non-null  float64\n",
      " 13  total             72177 non-null  float64\n",
      " 14  QScore            72185 non-null  object \n",
      "dtypes: float64(6), int64(2), object(7)\n",
      "memory usage: 8.3+ MB\n"
     ]
    }
   ],
   "source": [
    "df_big.info()"
   ]
  },
  {
   "cell_type": "code",
   "execution_count": 9,
   "id": "429809c8",
   "metadata": {},
   "outputs": [
    {
     "data": {
      "text/plain": [
       "QScore\n",
       "3A    51481\n",
       "2A    10576\n",
       "2B    10096\n",
       "1A       16\n",
       "1B       16\n",
       "Name: count, dtype: int64"
      ]
     },
     "execution_count": 9,
     "metadata": {},
     "output_type": "execute_result"
    }
   ],
   "source": [
    "#check distribution of target variable\n",
    "df_big['QScore'].value_counts()"
   ]
  },
  {
   "cell_type": "code",
   "execution_count": 10,
   "id": "921088a9",
   "metadata": {},
   "outputs": [
    {
     "data": {
      "text/plain": [
       "GFN_name                0\n",
       "country_code            0\n",
       "ISO Alpha-2 Code     1360\n",
       "ISO Alpha-3 Code     1104\n",
       "country                 0\n",
       "year                    0\n",
       "record                  0\n",
       "crop_land           20472\n",
       "grazing_land        20472\n",
       "forest_land         20472\n",
       "fishing_ground      20473\n",
       "built_up_land       20473\n",
       "carbon              20473\n",
       "total                   9\n",
       "QScore                  1\n",
       "dtype: int64"
      ]
     },
     "execution_count": 10,
     "metadata": {},
     "output_type": "execute_result"
    }
   ],
   "source": [
    "df_big.isna().sum()"
   ]
  },
  {
   "cell_type": "code",
   "execution_count": 11,
   "id": "83a43288",
   "metadata": {},
   "outputs": [
    {
     "data": {
      "text/plain": [
       "GFN_name            0\n",
       "country_code        0\n",
       "ISO Alpha-2 Code    0\n",
       "ISO Alpha-3 Code    0\n",
       "country             0\n",
       "year                0\n",
       "record              0\n",
       "crop_land           0\n",
       "grazing_land        0\n",
       "forest_land         0\n",
       "fishing_ground      0\n",
       "built_up_land       0\n",
       "carbon              0\n",
       "total               0\n",
       "QScore              0\n",
       "dtype: int64"
      ]
     },
     "execution_count": 11,
     "metadata": {},
     "output_type": "execute_result"
    }
   ],
   "source": [
    "#for simplicity, we will drop the rows with missing values.\n",
    "df_big = df_big.dropna()\n",
    "df_big.isna().sum()"
   ]
  },
  {
   "cell_type": "code",
   "execution_count": 12,
   "id": "fcfb0877",
   "metadata": {},
   "outputs": [
    {
     "data": {
      "text/plain": [
       "QScore\n",
       "3A    50369\n",
       "2A      224\n",
       "1A       16\n",
       "Name: count, dtype: int64"
      ]
     },
     "execution_count": 12,
     "metadata": {},
     "output_type": "execute_result"
    }
   ],
   "source": [
    "#Recheck the distribution of target variable\n",
    "df_big['QScore'].value_counts()"
   ]
  },
  {
   "cell_type": "code",
   "execution_count": 38,
   "id": "fc355a56",
   "metadata": {},
   "outputs": [
    {
     "data": {
      "text/plain": [
       "QScore\n",
       "3A    50369\n",
       "2A      240\n",
       "Name: count, dtype: int64"
      ]
     },
     "execution_count": 38,
     "metadata": {},
     "output_type": "execute_result"
    }
   ],
   "source": [
    "#An obvious change in our target variable after removing the missing values is that there are only three classes left #and from the distribution of the 3 classes, we can see that there is an obvious imbalance between the classes. #There are methods that can be applied to handle this imbalance such as oversampling and undersampling.\n",
    "#Oversampling involves increasing the number of instances in the class with fewer instances while undersampling #involves reducing the data points in the class with more instances.\n",
    "#For now, we will convert this to a binary classification problem by combining class '2A' and '1A'.\n",
    "df_big['QScore'] = df_big['QScore'].replace(['1A'], '2A')\n",
    "df_big.QScore.value_counts()"
   ]
  },
  {
   "cell_type": "code",
   "execution_count": 40,
   "id": "ae841dc3",
   "metadata": {},
   "outputs": [],
   "source": [
    "df_big_2A = df_big[df_big.QScore=='2A']\n",
    "df_big_3A = df_big[df_big.QScore=='3A'].sample(350)\n",
    "data_df_big = pd.concat([df_big_2A, df_big_3A])\n",
    "#data_df_big = df_big_2A.append(df_big_3A)"
   ]
  },
  {
   "cell_type": "code",
   "execution_count": 41,
   "id": "cdd0945c",
   "metadata": {},
   "outputs": [
    {
     "name": "stdout",
     "output_type": "stream",
     "text": [
      "(590, 15)\n"
     ]
    },
    {
     "data": {
      "text/plain": [
       "QScore\n",
       "3A    350\n",
       "2A    240\n",
       "Name: count, dtype: int64"
      ]
     },
     "execution_count": 41,
     "metadata": {},
     "output_type": "execute_result"
    }
   ],
   "source": [
    "data_df_big = sklearn.utils.shuffle(data_df_big)\n",
    "data_df_big = data_df_big.reset_index(drop=True)\n",
    "print(data_df_big.shape)\n",
    "data_df_big.QScore.value_counts()"
   ]
  },
  {
   "cell_type": "code",
   "execution_count": 42,
   "id": "5cbf64d0",
   "metadata": {},
   "outputs": [],
   "source": [
    "#more preprocessing\n",
    "data_df_big = data_df_big.drop(columns=['country_code', 'country', 'year'])\n",
    "x = data_df_big.drop(columns='QScore')\n",
    "y = data_df_big['QScore']"
   ]
  },
  {
   "cell_type": "code",
   "execution_count": 43,
   "id": "98e08036",
   "metadata": {},
   "outputs": [
    {
     "data": {
      "text/plain": [
       "(590,)"
      ]
     },
     "execution_count": 43,
     "metadata": {},
     "output_type": "execute_result"
    }
   ],
   "source": [
    "y.shape"
   ]
  },
  {
   "cell_type": "code",
   "execution_count": 44,
   "id": "5f8b0a58",
   "metadata": {},
   "outputs": [
    {
     "data": {
      "text/plain": [
       "(590, 11)"
      ]
     },
     "execution_count": 44,
     "metadata": {},
     "output_type": "execute_result"
    }
   ],
   "source": [
    "x.shape"
   ]
  },
  {
   "cell_type": "code",
   "execution_count": 45,
   "id": "feb73946",
   "metadata": {},
   "outputs": [
    {
     "data": {
      "text/plain": [
       "QScore\n",
       "3A    249\n",
       "2A    164\n",
       "Name: count, dtype: int64"
      ]
     },
     "execution_count": 45,
     "metadata": {},
     "output_type": "execute_result"
    }
   ],
   "source": [
    "#split the data into training and testing sets\n",
    "x_train, x_test, y_train, y_test = train_test_split(x, y, test_size=0.3, random_state=0)\n",
    "y_train.value_counts()\n"
   ]
  },
  {
   "cell_type": "code",
   "execution_count": 46,
   "id": "13acf1eb",
   "metadata": {},
   "outputs": [
    {
     "data": {
      "text/plain": [
       "(177,)"
      ]
     },
     "execution_count": 46,
     "metadata": {},
     "output_type": "execute_result"
    }
   ],
   "source": [
    "y_test.shape"
   ]
  },
  {
   "cell_type": "code",
   "execution_count": 47,
   "id": "e6791a4f",
   "metadata": {},
   "outputs": [
    {
     "name": "stdout",
     "output_type": "stream",
     "text": [
      "225    3A\n",
      "14     2A\n",
      "85     3A\n",
      "418    3A\n",
      "132    2A\n",
      "       ..\n",
      "346    3A\n",
      "369    3A\n",
      "140    2A\n",
      "533    3A\n",
      "171    2A\n",
      "Name: QScore, Length: 177, dtype: object\n"
     ]
    }
   ],
   "source": [
    "print(y_test)"
   ]
  },
  {
   "cell_type": "code",
   "execution_count": 48,
   "id": "70b3da52",
   "metadata": {},
   "outputs": [
    {
     "name": "stdout",
     "output_type": "stream",
     "text": [
      "225    3A\n",
      "14     2A\n",
      "85     3A\n",
      "418    3A\n",
      "132    2A\n",
      "       ..\n",
      "346    3A\n",
      "369    3A\n",
      "140    2A\n",
      "533    3A\n",
      "171    2A\n",
      "Name: QScore, Length: 177, dtype: object\n"
     ]
    }
   ],
   "source": [
    "print(y_test)"
   ]
  },
  {
   "cell_type": "code",
   "execution_count": 49,
   "id": "2a70ee05",
   "metadata": {},
   "outputs": [
    {
     "data": {
      "text/plain": [
       "array(['3A', '2A', '2A', '3A', '2A', '2A', '2A', '3A', '3A', '2A', '3A',\n",
       "       '3A', '3A', '3A', '3A', '3A', '2A', '2A', '2A', '3A', '2A', '2A',\n",
       "       '3A', '3A', '3A', '2A', '3A', '2A', '3A', '2A', '3A', '2A', '2A',\n",
       "       '2A', '3A', '3A', '3A', '2A', '2A', '3A', '3A', '3A', '3A', '2A',\n",
       "       '3A', '2A', '2A', '3A', '3A', '2A', '2A', '2A', '3A', '3A', '3A',\n",
       "       '3A', '3A', '2A', '2A', '3A', '3A', '3A', '3A', '3A', '3A', '3A',\n",
       "       '3A', '2A', '2A', '3A', '3A', '2A', '3A', '2A', '3A', '2A', '3A',\n",
       "       '3A', '3A', '3A', '2A', '2A', '3A', '3A', '3A', '3A', '3A', '3A',\n",
       "       '3A', '3A', '3A', '3A', '2A', '3A', '3A', '3A', '2A', '3A', '3A',\n",
       "       '2A', '3A', '2A', '2A', '2A', '3A', '3A', '3A', '2A', '2A', '3A',\n",
       "       '3A', '2A', '3A', '3A', '2A', '2A', '2A', '3A', '2A', '3A', '2A',\n",
       "       '2A', '3A', '2A', '2A', '2A', '2A', '3A', '3A', '2A', '3A', '2A',\n",
       "       '2A', '2A', '3A', '2A', '2A', '2A', '2A', '3A', '2A', '3A', '2A',\n",
       "       '2A', '3A', '2A', '3A', '3A', '2A', '2A', '3A', '2A', '3A', '3A',\n",
       "       '2A', '3A', '3A', '2A', '3A', '3A', '3A', '3A', '3A', '2A', '3A',\n",
       "       '2A', '3A', '3A', '3A', '2A', '3A', '2A', '2A', '2A', '3A', '3A',\n",
       "       '2A', '2A', '3A', '2A', '2A', '3A', '3A', '3A', '3A', '3A', '3A',\n",
       "       '2A', '3A', '2A', '3A', '3A', '3A', '2A', '3A', '3A', '2A', '3A',\n",
       "       '3A', '3A', '2A', '3A', '2A', '3A', '3A', '3A', '3A', '2A', '2A',\n",
       "       '3A', '3A', '3A', '3A', '2A', '2A', '3A', '2A', '2A', '2A', '2A',\n",
       "       '3A', '2A', '2A', '2A', '3A', '3A', '3A', '3A', '2A', '3A', '2A',\n",
       "       '2A', '2A', '3A', '2A', '3A', '2A', '3A', '3A', '3A', '2A', '2A',\n",
       "       '3A', '3A', '3A', '3A', '3A', '3A', '3A', '3A', '2A', '3A', '2A',\n",
       "       '3A', '3A', '2A', '3A', '3A', '3A', '2A', '3A', '2A', '2A', '3A',\n",
       "       '2A', '3A', '3A', '3A', '3A', '3A', '3A', '2A', '3A', '3A', '3A',\n",
       "       '3A', '3A', '2A', '3A', '3A', '3A', '3A', '3A', '3A', '3A', '3A',\n",
       "       '3A', '3A', '2A', '3A', '3A', '3A', '2A', '2A', '3A', '3A', '3A',\n",
       "       '3A', '3A', '3A', '3A', '3A', '3A', '2A', '2A', '2A', '3A', '2A',\n",
       "       '3A', '2A', '2A', '3A', '2A', '3A', '3A', '2A', '3A', '2A', '2A',\n",
       "       '2A', '2A', '2A', '2A', '3A', '2A', '3A', '3A', '3A', '3A', '2A',\n",
       "       '3A', '2A', '2A', '2A', '2A', '2A', '3A', '2A', '2A', '3A', '3A',\n",
       "       '3A', '3A', '3A', '3A', '3A', '2A', '3A', '3A', '2A', '3A', '3A',\n",
       "       '2A', '3A', '3A', '2A', '3A', '3A', '3A', '3A', '3A', '3A', '3A',\n",
       "       '3A', '3A', '2A', '2A', '2A', '3A', '2A', '2A', '3A', '3A', '3A',\n",
       "       '3A', '2A', '2A', '2A', '3A', '3A', '3A', '2A', '3A', '3A', '3A',\n",
       "       '2A', '2A', '2A', '3A', '3A', '3A', '3A', '2A', '3A', '2A', '2A',\n",
       "       '3A', '3A', '3A', '3A', '2A', '3A', '3A', '3A', '2A', '2A', '2A',\n",
       "       '3A', '3A', '3A', '3A', '2A', '3A'], dtype=object)"
      ]
     },
     "execution_count": 49,
     "metadata": {},
     "output_type": "execute_result"
    }
   ],
   "source": [
    "y_train_1 = y_train.values\n",
    "y_train_1"
   ]
  },
  {
   "cell_type": "code",
   "execution_count": 50,
   "id": "95e2de8f",
   "metadata": {},
   "outputs": [
    {
     "data": {
      "text/plain": [
       "285    6\n",
       "113    4\n",
       "18     1\n",
       "76     5\n",
       "206    7\n",
       "      ..\n",
       "277    7\n",
       "9      7\n",
       "359    0\n",
       "192    1\n",
       "559    3\n",
       "Name: record, Length: 413, dtype: int32"
      ]
     },
     "execution_count": 50,
     "metadata": {},
     "output_type": "execute_result"
    }
   ],
   "source": [
    "#encode categorical variable\n",
    "from sklearn.preprocessing import LabelEncoder\n",
    "encoder = LabelEncoder()\n",
    "x_train.record = encoder.fit_transform(x_train.record)\n",
    "x_train.record"
   ]
  },
  {
   "cell_type": "code",
   "execution_count": 51,
   "id": "028a25c0",
   "metadata": {},
   "outputs": [
    {
     "data": {
      "text/plain": [
       "225    7\n",
       "14     3\n",
       "85     1\n",
       "418    4\n",
       "132    0\n",
       "      ..\n",
       "346    7\n",
       "369    2\n",
       "140    5\n",
       "533    3\n",
       "171    5\n",
       "Name: record, Length: 177, dtype: int32"
      ]
     },
     "execution_count": 51,
     "metadata": {},
     "output_type": "execute_result"
    }
   ],
   "source": [
    "fitted = encoder.fit(x_test.record)\n",
    "x_test.record = fitted.transform(x_test.record)\n",
    "x_test.record"
   ]
  },
  {
   "cell_type": "code",
   "execution_count": 52,
   "id": "a4cda319",
   "metadata": {},
   "outputs": [
    {
     "data": {
      "text/plain": [
       "array(['Albania', 'AL', 'ALB', ..., '5447.766068', '0.0', '3649370.045'],\n",
       "      dtype='<U38')"
      ]
     },
     "execution_count": 52,
     "metadata": {},
     "output_type": "execute_result"
    }
   ],
   "source": [
    "x_train_1 = x_train.values.flatten().astype(str)\n",
    "x_train_1"
   ]
  },
  {
   "cell_type": "code",
   "execution_count": 54,
   "id": "ea1ef771",
   "metadata": {},
   "outputs": [
    {
     "data": {
      "text/plain": [
       "(413, 11)"
      ]
     },
     "execution_count": 54,
     "metadata": {},
     "output_type": "execute_result"
    }
   ],
   "source": [
    "x_train = encoder.fit_transform(x_train_1).reshape(413,11)\n",
    "x_train.shape"
   ]
  },
  {
   "cell_type": "code",
   "execution_count": 55,
   "id": "36093ec4",
   "metadata": {},
   "outputs": [
    {
     "data": {
      "text/plain": [
       "(413, 1)"
      ]
     },
     "execution_count": 55,
     "metadata": {},
     "output_type": "execute_result"
    }
   ],
   "source": [
    "y_train = encoder.fit_transform(y_train_1).reshape(-1,1)\n",
    "y_train.shape"
   ]
  },
  {
   "cell_type": "code",
   "execution_count": 56,
   "id": "c9129d19",
   "metadata": {},
   "outputs": [
    {
     "data": {
      "text/plain": [
       "(array([[2564, 2551, 2552, ...,  142,  842, 1005],\n",
       "        [2907, 2959, 2960, ...,  140, 1469, 1742],\n",
       "        [2819, 2789, 2790, ..., 1053,    1, 2011],\n",
       "        ...,\n",
       "        [2676, 2689, 2688, ...,  137,  940, 1037],\n",
       "        [2760, 2752, 2752, ..., 2184, 1518, 2020],\n",
       "        [2606, 2586, 2582, ...,  264,    1, 1759]], dtype=int64),\n",
       " array([1, 0, 0, 1, 0, 0, 0, 1, 1, 0, 1, 1, 1, 1, 1, 1, 0, 0, 0, 1, 0, 0,\n",
       "        1, 1, 1, 0, 1, 0, 1, 0, 1, 0, 0, 0, 1, 1, 1, 0, 0, 1, 1, 1, 1, 0,\n",
       "        1, 0, 0, 1, 1, 0, 0, 0, 1, 1, 1, 1, 1, 0, 0, 1, 1, 1, 1, 1, 1, 1,\n",
       "        1, 0, 0, 1, 1, 0, 1, 0, 1, 0, 1, 1, 1, 1, 0, 0, 1, 1, 1, 1, 1, 1,\n",
       "        1, 1, 1, 1, 0, 1, 1, 1, 0, 1, 1, 0, 1, 0, 0, 0, 1, 1, 1, 0, 0, 1,\n",
       "        1, 0, 1, 1, 0, 0, 0, 1, 0, 1, 0, 0, 1, 0, 0, 0, 0, 1, 1, 0, 1, 0,\n",
       "        0, 0, 1, 0, 0, 0, 0, 1, 0, 1, 0, 0, 1, 0, 1, 1, 0, 0, 1, 0, 1, 1,\n",
       "        0, 1, 1, 0, 1, 1, 1, 1, 1, 0, 1, 0, 1, 1, 1, 0, 1, 0, 0, 0, 1, 1,\n",
       "        0, 0, 1, 0, 0, 1, 1, 1, 1, 1, 1, 0, 1, 0, 1, 1, 1, 0, 1, 1, 0, 1,\n",
       "        1, 1, 0, 1, 0, 1, 1, 1, 1, 0, 0, 1, 1, 1, 1, 0, 0, 1, 0, 0, 0, 0,\n",
       "        1, 0, 0, 0, 1, 1, 1, 1, 0, 1, 0, 0, 0, 1, 0, 1, 0, 1, 1, 1, 0, 0,\n",
       "        1, 1, 1, 1, 1, 1, 1, 1, 0, 1, 0, 1, 1, 0, 1, 1, 1, 0, 1, 0, 0, 1,\n",
       "        0, 1, 1, 1, 1, 1, 1, 0, 1, 1, 1, 1, 1, 0, 1, 1, 1, 1, 1, 1, 1, 1,\n",
       "        1, 1, 0, 1, 1, 1, 0, 0, 1, 1, 1, 1, 1, 1, 1, 1, 1, 0, 0, 0, 1, 0,\n",
       "        1, 0, 0, 1, 0, 1, 1, 0, 1, 0, 0, 0, 0, 0, 0, 1, 0, 1, 1, 1, 1, 0,\n",
       "        1, 0, 0, 0, 0, 0, 1, 0, 0, 1, 1, 1, 1, 1, 1, 1, 0, 1, 1, 0, 1, 1,\n",
       "        0, 1, 1, 0, 1, 1, 1, 1, 1, 1, 1, 1, 1, 0, 0, 0, 1, 0, 0, 1, 1, 1,\n",
       "        1, 0, 0, 0, 1, 1, 1, 0, 1, 1, 1, 0, 0, 0, 1, 1, 1, 1, 0, 1, 0, 0,\n",
       "        1, 1, 1, 1, 0, 1, 1, 1, 0, 0, 0, 1, 1, 1, 1, 0, 1, 0, 0, 0, 0, 0,\n",
       "        0, 0, 0, 0, 0, 0, 0, 0, 0, 0, 0, 0, 0, 0, 0, 0, 0, 0, 0, 0, 0, 0,\n",
       "        0, 0, 0, 0, 0, 0, 0, 0, 0, 0, 0, 0, 0, 0, 0, 0, 0, 0, 0, 0, 0, 0,\n",
       "        0, 0, 0, 0, 0, 0, 0, 0, 0, 0, 0, 0, 0, 0, 0, 0, 0, 0, 0, 0, 0, 0,\n",
       "        0, 0, 0, 0, 0, 0, 0, 0, 0, 0, 0, 0, 0, 0]))"
      ]
     },
     "execution_count": 56,
     "metadata": {},
     "output_type": "execute_result"
    }
   ],
   "source": [
    "import imblearn\n",
    "from imblearn.over_sampling import SMOTE\n",
    "smote = SMOTE(random_state=1)\n",
    "x_train_balanced, y_train_balanced = smote.fit_resample(x_train, y_train)\n",
    "x_train_balanced, y_train_balanced"
   ]
  },
  {
   "cell_type": "code",
   "execution_count": 57,
   "id": "30e95639",
   "metadata": {},
   "outputs": [
    {
     "data": {
      "text/html": [
       "<div>\n",
       "<style scoped>\n",
       "    .dataframe tbody tr th:only-of-type {\n",
       "        vertical-align: middle;\n",
       "    }\n",
       "\n",
       "    .dataframe tbody tr th {\n",
       "        vertical-align: top;\n",
       "    }\n",
       "\n",
       "    .dataframe thead th {\n",
       "        text-align: right;\n",
       "    }\n",
       "</style>\n",
       "<table border=\"1\" class=\"dataframe\">\n",
       "  <thead>\n",
       "    <tr style=\"text-align: right;\">\n",
       "      <th></th>\n",
       "      <th>GFN_name</th>\n",
       "      <th>ISO Alpha-2 Code</th>\n",
       "      <th>ISO Alpha-3 Code</th>\n",
       "      <th>crop_land</th>\n",
       "      <th>grazing_land</th>\n",
       "      <th>forest_land</th>\n",
       "      <th>fishing_ground</th>\n",
       "      <th>built_up_land</th>\n",
       "      <th>carbon</th>\n",
       "      <th>total</th>\n",
       "      <th>QScore</th>\n",
       "    </tr>\n",
       "  </thead>\n",
       "  <tbody>\n",
       "    <tr>\n",
       "      <th>0</th>\n",
       "      <td>0.002481</td>\n",
       "      <td>0.009615</td>\n",
       "      <td>0.007229</td>\n",
       "      <td>0.955109</td>\n",
       "      <td>0.271902</td>\n",
       "      <td>0.196063</td>\n",
       "      <td>0.245972</td>\n",
       "      <td>0.027537</td>\n",
       "      <td>0.055403</td>\n",
       "      <td>0.332806</td>\n",
       "      <td>0.225466</td>\n",
       "    </tr>\n",
       "    <tr>\n",
       "      <th>1</th>\n",
       "      <td>0.853598</td>\n",
       "      <td>0.990385</td>\n",
       "      <td>0.990361</td>\n",
       "      <td>0.836255</td>\n",
       "      <td>0.243883</td>\n",
       "      <td>0.162598</td>\n",
       "      <td>0.222397</td>\n",
       "      <td>0.131786</td>\n",
       "      <td>0.054617</td>\n",
       "      <td>0.580926</td>\n",
       "      <td>0.596376</td>\n",
       "    </tr>\n",
       "    <tr>\n",
       "      <th>2</th>\n",
       "      <td>0.635236</td>\n",
       "      <td>0.581731</td>\n",
       "      <td>0.580723</td>\n",
       "      <td>0.398461</td>\n",
       "      <td>0.992502</td>\n",
       "      <td>0.601181</td>\n",
       "      <td>0.862475</td>\n",
       "      <td>0.846971</td>\n",
       "      <td>0.413360</td>\n",
       "      <td>0.000000</td>\n",
       "      <td>0.731756</td>\n",
       "    </tr>\n",
       "    <tr>\n",
       "      <th>3</th>\n",
       "      <td>0.736973</td>\n",
       "      <td>0.742788</td>\n",
       "      <td>0.734940</td>\n",
       "      <td>0.903378</td>\n",
       "      <td>0.651144</td>\n",
       "      <td>0.940945</td>\n",
       "      <td>0.779961</td>\n",
       "      <td>0.620771</td>\n",
       "      <td>0.767780</td>\n",
       "      <td>0.969133</td>\n",
       "      <td>0.374434</td>\n",
       "    </tr>\n",
       "    <tr>\n",
       "      <th>4</th>\n",
       "      <td>0.372208</td>\n",
       "      <td>0.394231</td>\n",
       "      <td>0.392771</td>\n",
       "      <td>1.000000</td>\n",
       "      <td>0.504736</td>\n",
       "      <td>0.636220</td>\n",
       "      <td>0.703340</td>\n",
       "      <td>0.551534</td>\n",
       "      <td>0.511591</td>\n",
       "      <td>0.525920</td>\n",
       "      <td>0.675390</td>\n",
       "    </tr>\n",
       "    <tr>\n",
       "      <th>...</th>\n",
       "      <td>...</td>\n",
       "      <td>...</td>\n",
       "      <td>...</td>\n",
       "      <td>...</td>\n",
       "      <td>...</td>\n",
       "      <td>...</td>\n",
       "      <td>...</td>\n",
       "      <td>...</td>\n",
       "      <td>...</td>\n",
       "      <td>...</td>\n",
       "      <td>...</td>\n",
       "    </tr>\n",
       "    <tr>\n",
       "      <th>493</th>\n",
       "      <td>0.441687</td>\n",
       "      <td>0.437500</td>\n",
       "      <td>0.438554</td>\n",
       "      <td>0.398461</td>\n",
       "      <td>0.864641</td>\n",
       "      <td>0.742913</td>\n",
       "      <td>0.925737</td>\n",
       "      <td>0.514949</td>\n",
       "      <td>0.466798</td>\n",
       "      <td>0.000000</td>\n",
       "      <td>0.278812</td>\n",
       "    </tr>\n",
       "    <tr>\n",
       "      <th>494</th>\n",
       "      <td>0.550868</td>\n",
       "      <td>0.538462</td>\n",
       "      <td>0.537349</td>\n",
       "      <td>0.903378</td>\n",
       "      <td>0.970403</td>\n",
       "      <td>0.554724</td>\n",
       "      <td>0.858546</td>\n",
       "      <td>0.940991</td>\n",
       "      <td>0.529666</td>\n",
       "      <td>0.921646</td>\n",
       "      <td>0.546049</td>\n",
       "    </tr>\n",
       "    <tr>\n",
       "      <th>495</th>\n",
       "      <td>0.280397</td>\n",
       "      <td>0.341346</td>\n",
       "      <td>0.334940</td>\n",
       "      <td>0.869602</td>\n",
       "      <td>0.218627</td>\n",
       "      <td>0.055906</td>\n",
       "      <td>0.242829</td>\n",
       "      <td>0.133360</td>\n",
       "      <td>0.053438</td>\n",
       "      <td>0.371587</td>\n",
       "      <td>0.241570</td>\n",
       "    </tr>\n",
       "    <tr>\n",
       "      <th>496</th>\n",
       "      <td>0.488834</td>\n",
       "      <td>0.492788</td>\n",
       "      <td>0.489157</td>\n",
       "      <td>0.940573</td>\n",
       "      <td>0.526440</td>\n",
       "      <td>0.888583</td>\n",
       "      <td>0.893124</td>\n",
       "      <td>0.762392</td>\n",
       "      <td>0.857760</td>\n",
       "      <td>0.600317</td>\n",
       "      <td>0.736286</td>\n",
       "    </tr>\n",
       "    <tr>\n",
       "      <th>497</th>\n",
       "      <td>0.106700</td>\n",
       "      <td>0.093750</td>\n",
       "      <td>0.079518</td>\n",
       "      <td>0.612655</td>\n",
       "      <td>0.360300</td>\n",
       "      <td>0.161417</td>\n",
       "      <td>0.459725</td>\n",
       "      <td>0.245476</td>\n",
       "      <td>0.103340</td>\n",
       "      <td>0.000000</td>\n",
       "      <td>0.604932</td>\n",
       "    </tr>\n",
       "  </tbody>\n",
       "</table>\n",
       "<p>498 rows × 11 columns</p>\n",
       "</div>"
      ],
      "text/plain": [
       "     GFN_name  ISO Alpha-2 Code  ISO Alpha-3 Code  crop_land  grazing_land  \\\n",
       "0    0.002481          0.009615          0.007229   0.955109      0.271902   \n",
       "1    0.853598          0.990385          0.990361   0.836255      0.243883   \n",
       "2    0.635236          0.581731          0.580723   0.398461      0.992502   \n",
       "3    0.736973          0.742788          0.734940   0.903378      0.651144   \n",
       "4    0.372208          0.394231          0.392771   1.000000      0.504736   \n",
       "..        ...               ...               ...        ...           ...   \n",
       "493  0.441687          0.437500          0.438554   0.398461      0.864641   \n",
       "494  0.550868          0.538462          0.537349   0.903378      0.970403   \n",
       "495  0.280397          0.341346          0.334940   0.869602      0.218627   \n",
       "496  0.488834          0.492788          0.489157   0.940573      0.526440   \n",
       "497  0.106700          0.093750          0.079518   0.612655      0.360300   \n",
       "\n",
       "     forest_land  fishing_ground  built_up_land    carbon     total    QScore  \n",
       "0       0.196063        0.245972       0.027537  0.055403  0.332806  0.225466  \n",
       "1       0.162598        0.222397       0.131786  0.054617  0.580926  0.596376  \n",
       "2       0.601181        0.862475       0.846971  0.413360  0.000000  0.731756  \n",
       "3       0.940945        0.779961       0.620771  0.767780  0.969133  0.374434  \n",
       "4       0.636220        0.703340       0.551534  0.511591  0.525920  0.675390  \n",
       "..           ...             ...            ...       ...       ...       ...  \n",
       "493     0.742913        0.925737       0.514949  0.466798  0.000000  0.278812  \n",
       "494     0.554724        0.858546       0.940991  0.529666  0.921646  0.546049  \n",
       "495     0.055906        0.242829       0.133360  0.053438  0.371587  0.241570  \n",
       "496     0.888583        0.893124       0.762392  0.857760  0.600317  0.736286  \n",
       "497     0.161417        0.459725       0.245476  0.103340  0.000000  0.604932  \n",
       "\n",
       "[498 rows x 11 columns]"
      ]
     },
     "execution_count": 57,
     "metadata": {},
     "output_type": "execute_result"
    }
   ],
   "source": [
    "from sklearn.preprocessing import MinMaxScaler\n",
    "scaler = MinMaxScaler()\n",
    "normalised_train_df = scaler.fit_transform(x_train_balanced)\n",
    "normalised_train_df\n",
    "normalised_train_df = pd.DataFrame(normalised_train_df, columns = data_df_big.columns.drop(['record']))\n",
    "normalised_train_df\n",
    "#normalised_train_df['record'] = x_train_balanced['record']"
   ]
  },
  {
   "cell_type": "code",
   "execution_count": 58,
   "id": "f8aa8f69",
   "metadata": {},
   "outputs": [
    {
     "data": {
      "text/html": [
       "<div>\n",
       "<style scoped>\n",
       "    .dataframe tbody tr th:only-of-type {\n",
       "        vertical-align: middle;\n",
       "    }\n",
       "\n",
       "    .dataframe tbody tr th {\n",
       "        vertical-align: top;\n",
       "    }\n",
       "\n",
       "    .dataframe thead th {\n",
       "        text-align: right;\n",
       "    }\n",
       "</style>\n",
       "<table border=\"1\" class=\"dataframe\">\n",
       "  <thead>\n",
       "    <tr style=\"text-align: right;\">\n",
       "      <th></th>\n",
       "      <th>GFN_name</th>\n",
       "      <th>ISO Alpha-2 Code</th>\n",
       "      <th>ISO Alpha-3 Code</th>\n",
       "      <th>crop_land</th>\n",
       "      <th>grazing_land</th>\n",
       "      <th>forest_land</th>\n",
       "      <th>fishing_ground</th>\n",
       "      <th>built_up_land</th>\n",
       "      <th>carbon</th>\n",
       "      <th>total</th>\n",
       "    </tr>\n",
       "  </thead>\n",
       "  <tbody>\n",
       "    <tr>\n",
       "      <th>0</th>\n",
       "      <td>0.002481</td>\n",
       "      <td>0.009615</td>\n",
       "      <td>0.007229</td>\n",
       "      <td>0.955109</td>\n",
       "      <td>0.271902</td>\n",
       "      <td>0.196063</td>\n",
       "      <td>0.245972</td>\n",
       "      <td>0.027537</td>\n",
       "      <td>0.055403</td>\n",
       "      <td>0.332806</td>\n",
       "    </tr>\n",
       "    <tr>\n",
       "      <th>1</th>\n",
       "      <td>0.853598</td>\n",
       "      <td>0.990385</td>\n",
       "      <td>0.990361</td>\n",
       "      <td>0.836255</td>\n",
       "      <td>0.243883</td>\n",
       "      <td>0.162598</td>\n",
       "      <td>0.222397</td>\n",
       "      <td>0.131786</td>\n",
       "      <td>0.054617</td>\n",
       "      <td>0.580926</td>\n",
       "    </tr>\n",
       "    <tr>\n",
       "      <th>2</th>\n",
       "      <td>0.635236</td>\n",
       "      <td>0.581731</td>\n",
       "      <td>0.580723</td>\n",
       "      <td>0.398461</td>\n",
       "      <td>0.992502</td>\n",
       "      <td>0.601181</td>\n",
       "      <td>0.862475</td>\n",
       "      <td>0.846971</td>\n",
       "      <td>0.413360</td>\n",
       "      <td>0.000000</td>\n",
       "    </tr>\n",
       "    <tr>\n",
       "      <th>3</th>\n",
       "      <td>0.736973</td>\n",
       "      <td>0.742788</td>\n",
       "      <td>0.734940</td>\n",
       "      <td>0.903378</td>\n",
       "      <td>0.651144</td>\n",
       "      <td>0.940945</td>\n",
       "      <td>0.779961</td>\n",
       "      <td>0.620771</td>\n",
       "      <td>0.767780</td>\n",
       "      <td>0.969133</td>\n",
       "    </tr>\n",
       "    <tr>\n",
       "      <th>4</th>\n",
       "      <td>0.372208</td>\n",
       "      <td>0.394231</td>\n",
       "      <td>0.392771</td>\n",
       "      <td>1.000000</td>\n",
       "      <td>0.504736</td>\n",
       "      <td>0.636220</td>\n",
       "      <td>0.703340</td>\n",
       "      <td>0.551534</td>\n",
       "      <td>0.511591</td>\n",
       "      <td>0.525920</td>\n",
       "    </tr>\n",
       "  </tbody>\n",
       "</table>\n",
       "</div>"
      ],
      "text/plain": [
       "   GFN_name  ISO Alpha-2 Code  ISO Alpha-3 Code  crop_land  grazing_land  \\\n",
       "0  0.002481          0.009615          0.007229   0.955109      0.271902   \n",
       "1  0.853598          0.990385          0.990361   0.836255      0.243883   \n",
       "2  0.635236          0.581731          0.580723   0.398461      0.992502   \n",
       "3  0.736973          0.742788          0.734940   0.903378      0.651144   \n",
       "4  0.372208          0.394231          0.392771   1.000000      0.504736   \n",
       "\n",
       "   forest_land  fishing_ground  built_up_land    carbon     total  \n",
       "0     0.196063        0.245972       0.027537  0.055403  0.332806  \n",
       "1     0.162598        0.222397       0.131786  0.054617  0.580926  \n",
       "2     0.601181        0.862475       0.846971  0.413360  0.000000  \n",
       "3     0.940945        0.779961       0.620771  0.767780  0.969133  \n",
       "4     0.636220        0.703340       0.551534  0.511591  0.525920  "
      ]
     },
     "execution_count": 58,
     "metadata": {},
     "output_type": "execute_result"
    }
   ],
   "source": [
    "normalised_train_df = normalised_train_df.drop(columns='QScore')\n",
    "normalised_train_df.head()"
   ]
  },
  {
   "cell_type": "code",
   "execution_count": 59,
   "id": "fcf0dc23",
   "metadata": {},
   "outputs": [
    {
     "name": "stdout",
     "output_type": "stream",
     "text": [
      "           GFN_name ISO Alpha-2 Code ISO Alpha-3 Code  record     crop_land  \\\n",
      "225           Japan               JP              JPN       7  1.625921e+07   \n",
      "14          Morocco               MA              MAR       3  8.723089e+06   \n",
      "85          Lebanon               LB              LBN       1  3.250000e+05   \n",
      "418         Belgium               BE              BEL       4  1.128352e+00   \n",
      "132      Tajikistan               TJ              TJK       0  9.879850e-02   \n",
      "..              ...              ...              ...     ...           ...   \n",
      "346  United Kingdom               GB              GBR       7  3.156208e+07   \n",
      "369     Philippines               PH              PHL       2  3.344299e-01   \n",
      "140      Mauritania               MR              MRT       5  1.481184e+06   \n",
      "533          Mexico               MX              MEX       3  3.947719e+07   \n",
      "171   French Guiana               GF              GUF       5  2.520173e+04   \n",
      "\n",
      "     grazing_land  forest_land  fishing_ground  built_up_land        carbon  \\\n",
      "225  1.030858e+04  22642581.08    5.001450e+07   8.070148e+06  3.154830e+08   \n",
      "14   5.623982e+06  3151080.775    2.449152e+06   9.241300e+05  0.000000e+00   \n",
      "85   3.000000e+05       147375    1.241000e+05   4.994360e+04  0.000000e+00   \n",
      "418  5.496175e-01  0.969109648    1.119194e-01   1.815385e-01  4.750367e+00   \n",
      "132  4.436202e-01  0.047212633    2.965100e-02   3.297832e-02  0.000000e+00   \n",
      "..            ...          ...             ...            ...           ...   \n",
      "346  7.718307e+06  6019514.929    5.802792e+06   8.807531e+06  1.932700e+08   \n",
      "369  2.152226e-02  0.129304722    1.094600e-01   3.954866e-02  0.000000e+00   \n",
      "140  5.432897e+06  852452.4511    2.704210e+05   1.951359e+05  1.727426e+06   \n",
      "533  2.927323e+07  56183845.28    1.684530e+07   5.188560e+06  0.000000e+00   \n",
      "171  1.872613e+04  115826.2044    2.907769e+04   1.403916e+03  4.654897e+05   \n",
      "\n",
      "            total  \n",
      "225  4.124797e+08  \n",
      "14   2.087143e+07  \n",
      "85   9.464186e+05  \n",
      "418  7.690904e+00  \n",
      "132  6.522606e-01  \n",
      "..            ...  \n",
      "346  2.531802e+08  \n",
      "369  6.342655e-01  \n",
      "140  9.959516e+06  \n",
      "533  1.469681e+08  \n",
      "171  6.557254e+05  \n",
      "\n",
      "[177 rows x 11 columns]\n"
     ]
    }
   ],
   "source": [
    "print(x_test)"
   ]
  },
  {
   "cell_type": "code",
   "execution_count": 60,
   "id": "62d0f1d6",
   "metadata": {},
   "outputs": [
    {
     "data": {
      "text/plain": [
       "array(['Japan', 'JP', 'JPN', ..., '1403.916309', '465489.697',\n",
       "       '655725.37'], dtype='<U38')"
      ]
     },
     "execution_count": 60,
     "metadata": {},
     "output_type": "execute_result"
    }
   ],
   "source": [
    "x_test_1 = x_test.values.flatten().astype(str)\n",
    "x_test_1"
   ]
  },
  {
   "cell_type": "code",
   "execution_count": 62,
   "id": "dd0e37c5",
   "metadata": {},
   "outputs": [
    {
     "data": {
      "text/plain": [
       "(177, 11)"
      ]
     },
     "execution_count": 62,
     "metadata": {},
     "output_type": "execute_result"
    }
   ],
   "source": [
    "x_test = encoder.fit_transform(x_test_1).reshape(177,11)\n",
    "x_test.shape"
   ]
  },
  {
   "cell_type": "code",
   "execution_count": 63,
   "id": "f7baf8bd",
   "metadata": {},
   "outputs": [
    {
     "data": {
      "text/html": [
       "<div>\n",
       "<style scoped>\n",
       "    .dataframe tbody tr th:only-of-type {\n",
       "        vertical-align: middle;\n",
       "    }\n",
       "\n",
       "    .dataframe tbody tr th {\n",
       "        vertical-align: top;\n",
       "    }\n",
       "\n",
       "    .dataframe thead th {\n",
       "        text-align: right;\n",
       "    }\n",
       "</style>\n",
       "<table border=\"1\" class=\"dataframe\">\n",
       "  <thead>\n",
       "    <tr style=\"text-align: right;\">\n",
       "      <th></th>\n",
       "      <th>GFN_name</th>\n",
       "      <th>ISO Alpha-2 Code</th>\n",
       "      <th>ISO Alpha-3 Code</th>\n",
       "      <th>crop_land</th>\n",
       "      <th>grazing_land</th>\n",
       "      <th>forest_land</th>\n",
       "      <th>fishing_ground</th>\n",
       "      <th>built_up_land</th>\n",
       "      <th>carbon</th>\n",
       "      <th>total</th>\n",
       "      <th>QScore</th>\n",
       "    </tr>\n",
       "  </thead>\n",
       "  <tbody>\n",
       "    <tr>\n",
       "      <th>0</th>\n",
       "      <td>0.470803</td>\n",
       "      <td>0.480427</td>\n",
       "      <td>0.484099</td>\n",
       "      <td>1.000000</td>\n",
       "      <td>0.556940</td>\n",
       "      <td>0.456000</td>\n",
       "      <td>0.653298</td>\n",
       "      <td>0.851590</td>\n",
       "      <td>0.953778</td>\n",
       "      <td>0.735581</td>\n",
       "      <td>0.756757</td>\n",
       "    </tr>\n",
       "    <tr>\n",
       "      <th>1</th>\n",
       "      <td>0.667883</td>\n",
       "      <td>0.594306</td>\n",
       "      <td>0.597173</td>\n",
       "      <td>0.775763</td>\n",
       "      <td>0.972420</td>\n",
       "      <td>0.886222</td>\n",
       "      <td>0.729947</td>\n",
       "      <td>0.674912</td>\n",
       "      <td>0.985778</td>\n",
       "      <td>0.000000</td>\n",
       "      <td>0.540541</td>\n",
       "    </tr>\n",
       "    <tr>\n",
       "      <th>2</th>\n",
       "      <td>0.562044</td>\n",
       "      <td>0.533808</td>\n",
       "      <td>0.537102</td>\n",
       "      <td>0.421756</td>\n",
       "      <td>0.741993</td>\n",
       "      <td>0.727111</td>\n",
       "      <td>0.534759</td>\n",
       "      <td>0.491166</td>\n",
       "      <td>0.848000</td>\n",
       "      <td>0.000000</td>\n",
       "      <td>0.979730</td>\n",
       "    </tr>\n",
       "    <tr>\n",
       "      <th>3</th>\n",
       "      <td>0.080292</td>\n",
       "      <td>0.056940</td>\n",
       "      <td>0.063604</td>\n",
       "      <td>0.853053</td>\n",
       "      <td>0.395907</td>\n",
       "      <td>0.340444</td>\n",
       "      <td>0.380570</td>\n",
       "      <td>0.174028</td>\n",
       "      <td>0.222222</td>\n",
       "      <td>0.802130</td>\n",
       "      <td>0.907658</td>\n",
       "    </tr>\n",
       "    <tr>\n",
       "      <th>4</th>\n",
       "      <td>0.912409</td>\n",
       "      <td>0.879004</td>\n",
       "      <td>0.879859</td>\n",
       "      <td>0.000000</td>\n",
       "      <td>0.160142</td>\n",
       "      <td>0.327111</td>\n",
       "      <td>0.092692</td>\n",
       "      <td>0.058304</td>\n",
       "      <td>0.066667</td>\n",
       "      <td>0.000000</td>\n",
       "      <td>0.172297</td>\n",
       "    </tr>\n",
       "    <tr>\n",
       "      <th>...</th>\n",
       "      <td>...</td>\n",
       "      <td>...</td>\n",
       "      <td>...</td>\n",
       "      <td>...</td>\n",
       "      <td>...</td>\n",
       "      <td>...</td>\n",
       "      <td>...</td>\n",
       "      <td>...</td>\n",
       "      <td>...</td>\n",
       "      <td>...</td>\n",
       "      <td>...</td>\n",
       "    </tr>\n",
       "    <tr>\n",
       "      <th>172</th>\n",
       "      <td>0.959854</td>\n",
       "      <td>0.320285</td>\n",
       "      <td>0.325088</td>\n",
       "      <td>1.000000</td>\n",
       "      <td>0.733986</td>\n",
       "      <td>0.948444</td>\n",
       "      <td>0.893939</td>\n",
       "      <td>0.884276</td>\n",
       "      <td>0.974222</td>\n",
       "      <td>0.595386</td>\n",
       "      <td>0.593468</td>\n",
       "    </tr>\n",
       "    <tr>\n",
       "      <th>173</th>\n",
       "      <td>0.770073</td>\n",
       "      <td>0.743772</td>\n",
       "      <td>0.745583</td>\n",
       "      <td>0.649809</td>\n",
       "      <td>0.287367</td>\n",
       "      <td>0.038222</td>\n",
       "      <td>0.186275</td>\n",
       "      <td>0.172261</td>\n",
       "      <td>0.081778</td>\n",
       "      <td>0.000000</td>\n",
       "      <td>0.171171</td>\n",
       "    </tr>\n",
       "    <tr>\n",
       "      <th>174</th>\n",
       "      <td>0.653285</td>\n",
       "      <td>0.633452</td>\n",
       "      <td>0.636042</td>\n",
       "      <td>0.915076</td>\n",
       "      <td>0.540036</td>\n",
       "      <td>0.879111</td>\n",
       "      <td>0.966132</td>\n",
       "      <td>0.695230</td>\n",
       "      <td>0.596444</td>\n",
       "      <td>0.572316</td>\n",
       "      <td>1.000000</td>\n",
       "    </tr>\n",
       "    <tr>\n",
       "      <th>175</th>\n",
       "      <td>0.656934</td>\n",
       "      <td>0.647687</td>\n",
       "      <td>0.611307</td>\n",
       "      <td>0.775763</td>\n",
       "      <td>0.787367</td>\n",
       "      <td>0.717333</td>\n",
       "      <td>0.878788</td>\n",
       "      <td>0.565371</td>\n",
       "      <td>0.861333</td>\n",
       "      <td>0.000000</td>\n",
       "      <td>0.408784</td>\n",
       "    </tr>\n",
       "    <tr>\n",
       "      <th>176</th>\n",
       "      <td>0.284672</td>\n",
       "      <td>0.334520</td>\n",
       "      <td>0.381625</td>\n",
       "      <td>0.915076</td>\n",
       "      <td>0.679715</td>\n",
       "      <td>0.588444</td>\n",
       "      <td>0.473262</td>\n",
       "      <td>0.710247</td>\n",
       "      <td>0.521778</td>\n",
       "      <td>0.833185</td>\n",
       "      <td>0.893018</td>\n",
       "    </tr>\n",
       "  </tbody>\n",
       "</table>\n",
       "<p>177 rows × 11 columns</p>\n",
       "</div>"
      ],
      "text/plain": [
       "     GFN_name  ISO Alpha-2 Code  ISO Alpha-3 Code  crop_land  grazing_land  \\\n",
       "0    0.470803          0.480427          0.484099   1.000000      0.556940   \n",
       "1    0.667883          0.594306          0.597173   0.775763      0.972420   \n",
       "2    0.562044          0.533808          0.537102   0.421756      0.741993   \n",
       "3    0.080292          0.056940          0.063604   0.853053      0.395907   \n",
       "4    0.912409          0.879004          0.879859   0.000000      0.160142   \n",
       "..        ...               ...               ...        ...           ...   \n",
       "172  0.959854          0.320285          0.325088   1.000000      0.733986   \n",
       "173  0.770073          0.743772          0.745583   0.649809      0.287367   \n",
       "174  0.653285          0.633452          0.636042   0.915076      0.540036   \n",
       "175  0.656934          0.647687          0.611307   0.775763      0.787367   \n",
       "176  0.284672          0.334520          0.381625   0.915076      0.679715   \n",
       "\n",
       "     forest_land  fishing_ground  built_up_land    carbon     total    QScore  \n",
       "0       0.456000        0.653298       0.851590  0.953778  0.735581  0.756757  \n",
       "1       0.886222        0.729947       0.674912  0.985778  0.000000  0.540541  \n",
       "2       0.727111        0.534759       0.491166  0.848000  0.000000  0.979730  \n",
       "3       0.340444        0.380570       0.174028  0.222222  0.802130  0.907658  \n",
       "4       0.327111        0.092692       0.058304  0.066667  0.000000  0.172297  \n",
       "..           ...             ...            ...       ...       ...       ...  \n",
       "172     0.948444        0.893939       0.884276  0.974222  0.595386  0.593468  \n",
       "173     0.038222        0.186275       0.172261  0.081778  0.000000  0.171171  \n",
       "174     0.879111        0.966132       0.695230  0.596444  0.572316  1.000000  \n",
       "175     0.717333        0.878788       0.565371  0.861333  0.000000  0.408784  \n",
       "176     0.588444        0.473262       0.710247  0.521778  0.833185  0.893018  \n",
       "\n",
       "[177 rows x 11 columns]"
      ]
     },
     "execution_count": 63,
     "metadata": {},
     "output_type": "execute_result"
    }
   ],
   "source": [
    "fitted =  scaler.fit(x_test)\n",
    "normalised_test_df = fitted.transform(x_test)\n",
    "normalised_test_df = pd.DataFrame(normalised_test_df, columns = data_df_big.columns.drop(['record'])).reset_index(drop=True)\n",
    "normalised_test_df\n",
    "#normalised_test_df['record'] = x_test['record']"
   ]
  },
  {
   "cell_type": "code",
   "execution_count": 64,
   "id": "13709ca0",
   "metadata": {},
   "outputs": [
    {
     "data": {
      "text/html": [
       "<div>\n",
       "<style scoped>\n",
       "    .dataframe tbody tr th:only-of-type {\n",
       "        vertical-align: middle;\n",
       "    }\n",
       "\n",
       "    .dataframe tbody tr th {\n",
       "        vertical-align: top;\n",
       "    }\n",
       "\n",
       "    .dataframe thead th {\n",
       "        text-align: right;\n",
       "    }\n",
       "</style>\n",
       "<table border=\"1\" class=\"dataframe\">\n",
       "  <thead>\n",
       "    <tr style=\"text-align: right;\">\n",
       "      <th></th>\n",
       "      <th>GFN_name</th>\n",
       "      <th>ISO Alpha-2 Code</th>\n",
       "      <th>ISO Alpha-3 Code</th>\n",
       "      <th>crop_land</th>\n",
       "      <th>grazing_land</th>\n",
       "      <th>forest_land</th>\n",
       "      <th>fishing_ground</th>\n",
       "      <th>built_up_land</th>\n",
       "      <th>carbon</th>\n",
       "      <th>total</th>\n",
       "    </tr>\n",
       "  </thead>\n",
       "  <tbody>\n",
       "    <tr>\n",
       "      <th>0</th>\n",
       "      <td>0.470803</td>\n",
       "      <td>0.480427</td>\n",
       "      <td>0.484099</td>\n",
       "      <td>1.000000</td>\n",
       "      <td>0.556940</td>\n",
       "      <td>0.456000</td>\n",
       "      <td>0.653298</td>\n",
       "      <td>0.851590</td>\n",
       "      <td>0.953778</td>\n",
       "      <td>0.735581</td>\n",
       "    </tr>\n",
       "    <tr>\n",
       "      <th>1</th>\n",
       "      <td>0.667883</td>\n",
       "      <td>0.594306</td>\n",
       "      <td>0.597173</td>\n",
       "      <td>0.775763</td>\n",
       "      <td>0.972420</td>\n",
       "      <td>0.886222</td>\n",
       "      <td>0.729947</td>\n",
       "      <td>0.674912</td>\n",
       "      <td>0.985778</td>\n",
       "      <td>0.000000</td>\n",
       "    </tr>\n",
       "    <tr>\n",
       "      <th>2</th>\n",
       "      <td>0.562044</td>\n",
       "      <td>0.533808</td>\n",
       "      <td>0.537102</td>\n",
       "      <td>0.421756</td>\n",
       "      <td>0.741993</td>\n",
       "      <td>0.727111</td>\n",
       "      <td>0.534759</td>\n",
       "      <td>0.491166</td>\n",
       "      <td>0.848000</td>\n",
       "      <td>0.000000</td>\n",
       "    </tr>\n",
       "    <tr>\n",
       "      <th>3</th>\n",
       "      <td>0.080292</td>\n",
       "      <td>0.056940</td>\n",
       "      <td>0.063604</td>\n",
       "      <td>0.853053</td>\n",
       "      <td>0.395907</td>\n",
       "      <td>0.340444</td>\n",
       "      <td>0.380570</td>\n",
       "      <td>0.174028</td>\n",
       "      <td>0.222222</td>\n",
       "      <td>0.802130</td>\n",
       "    </tr>\n",
       "    <tr>\n",
       "      <th>4</th>\n",
       "      <td>0.912409</td>\n",
       "      <td>0.879004</td>\n",
       "      <td>0.879859</td>\n",
       "      <td>0.000000</td>\n",
       "      <td>0.160142</td>\n",
       "      <td>0.327111</td>\n",
       "      <td>0.092692</td>\n",
       "      <td>0.058304</td>\n",
       "      <td>0.066667</td>\n",
       "      <td>0.000000</td>\n",
       "    </tr>\n",
       "  </tbody>\n",
       "</table>\n",
       "</div>"
      ],
      "text/plain": [
       "   GFN_name  ISO Alpha-2 Code  ISO Alpha-3 Code  crop_land  grazing_land  \\\n",
       "0  0.470803          0.480427          0.484099   1.000000      0.556940   \n",
       "1  0.667883          0.594306          0.597173   0.775763      0.972420   \n",
       "2  0.562044          0.533808          0.537102   0.421756      0.741993   \n",
       "3  0.080292          0.056940          0.063604   0.853053      0.395907   \n",
       "4  0.912409          0.879004          0.879859   0.000000      0.160142   \n",
       "\n",
       "   forest_land  fishing_ground  built_up_land    carbon     total  \n",
       "0     0.456000        0.653298       0.851590  0.953778  0.735581  \n",
       "1     0.886222        0.729947       0.674912  0.985778  0.000000  \n",
       "2     0.727111        0.534759       0.491166  0.848000  0.000000  \n",
       "3     0.340444        0.380570       0.174028  0.222222  0.802130  \n",
       "4     0.327111        0.092692       0.058304  0.066667  0.000000  "
      ]
     },
     "execution_count": 64,
     "metadata": {},
     "output_type": "execute_result"
    }
   ],
   "source": [
    "normalised_test_df = normalised_test_df.drop(columns ='QScore')\n",
    "normalised_test_df.head()"
   ]
  },
  {
   "cell_type": "code",
   "execution_count": 65,
   "id": "d71c1167",
   "metadata": {},
   "outputs": [
    {
     "data": {
      "text/html": [
       "<style>#sk-container-id-1 {color: black;}#sk-container-id-1 pre{padding: 0;}#sk-container-id-1 div.sk-toggleable {background-color: white;}#sk-container-id-1 label.sk-toggleable__label {cursor: pointer;display: block;width: 100%;margin-bottom: 0;padding: 0.3em;box-sizing: border-box;text-align: center;}#sk-container-id-1 label.sk-toggleable__label-arrow:before {content: \"▸\";float: left;margin-right: 0.25em;color: #696969;}#sk-container-id-1 label.sk-toggleable__label-arrow:hover:before {color: black;}#sk-container-id-1 div.sk-estimator:hover label.sk-toggleable__label-arrow:before {color: black;}#sk-container-id-1 div.sk-toggleable__content {max-height: 0;max-width: 0;overflow: hidden;text-align: left;background-color: #f0f8ff;}#sk-container-id-1 div.sk-toggleable__content pre {margin: 0.2em;color: black;border-radius: 0.25em;background-color: #f0f8ff;}#sk-container-id-1 input.sk-toggleable__control:checked~div.sk-toggleable__content {max-height: 200px;max-width: 100%;overflow: auto;}#sk-container-id-1 input.sk-toggleable__control:checked~label.sk-toggleable__label-arrow:before {content: \"▾\";}#sk-container-id-1 div.sk-estimator input.sk-toggleable__control:checked~label.sk-toggleable__label {background-color: #d4ebff;}#sk-container-id-1 div.sk-label input.sk-toggleable__control:checked~label.sk-toggleable__label {background-color: #d4ebff;}#sk-container-id-1 input.sk-hidden--visually {border: 0;clip: rect(1px 1px 1px 1px);clip: rect(1px, 1px, 1px, 1px);height: 1px;margin: -1px;overflow: hidden;padding: 0;position: absolute;width: 1px;}#sk-container-id-1 div.sk-estimator {font-family: monospace;background-color: #f0f8ff;border: 1px dotted black;border-radius: 0.25em;box-sizing: border-box;margin-bottom: 0.5em;}#sk-container-id-1 div.sk-estimator:hover {background-color: #d4ebff;}#sk-container-id-1 div.sk-parallel-item::after {content: \"\";width: 100%;border-bottom: 1px solid gray;flex-grow: 1;}#sk-container-id-1 div.sk-label:hover label.sk-toggleable__label {background-color: #d4ebff;}#sk-container-id-1 div.sk-serial::before {content: \"\";position: absolute;border-left: 1px solid gray;box-sizing: border-box;top: 0;bottom: 0;left: 50%;z-index: 0;}#sk-container-id-1 div.sk-serial {display: flex;flex-direction: column;align-items: center;background-color: white;padding-right: 0.2em;padding-left: 0.2em;position: relative;}#sk-container-id-1 div.sk-item {position: relative;z-index: 1;}#sk-container-id-1 div.sk-parallel {display: flex;align-items: stretch;justify-content: center;background-color: white;position: relative;}#sk-container-id-1 div.sk-item::before, #sk-container-id-1 div.sk-parallel-item::before {content: \"\";position: absolute;border-left: 1px solid gray;box-sizing: border-box;top: 0;bottom: 0;left: 50%;z-index: -1;}#sk-container-id-1 div.sk-parallel-item {display: flex;flex-direction: column;z-index: 1;position: relative;background-color: white;}#sk-container-id-1 div.sk-parallel-item:first-child::after {align-self: flex-end;width: 50%;}#sk-container-id-1 div.sk-parallel-item:last-child::after {align-self: flex-start;width: 50%;}#sk-container-id-1 div.sk-parallel-item:only-child::after {width: 0;}#sk-container-id-1 div.sk-dashed-wrapped {border: 1px dashed gray;margin: 0 0.4em 0.5em 0.4em;box-sizing: border-box;padding-bottom: 0.4em;background-color: white;}#sk-container-id-1 div.sk-label label {font-family: monospace;font-weight: bold;display: inline-block;line-height: 1.2em;}#sk-container-id-1 div.sk-label-container {text-align: center;}#sk-container-id-1 div.sk-container {/* jupyter's `normalize.less` sets `[hidden] { display: none; }` but bootstrap.min.css set `[hidden] { display: none !important; }` so we also need the `!important` here to be able to override the default hidden behavior on the sphinx rendered scikit-learn.org. See: https://github.com/scikit-learn/scikit-learn/issues/21755 */display: inline-block !important;position: relative;}#sk-container-id-1 div.sk-text-repr-fallback {display: none;}</style><div id=\"sk-container-id-1\" class=\"sk-top-container\"><div class=\"sk-text-repr-fallback\"><pre>LogisticRegression()</pre><b>In a Jupyter environment, please rerun this cell to show the HTML representation or trust the notebook. <br />On GitHub, the HTML representation is unable to render, please try loading this page with nbviewer.org.</b></div><div class=\"sk-container\" hidden><div class=\"sk-item\"><div class=\"sk-estimator sk-toggleable\"><input class=\"sk-toggleable__control sk-hidden--visually\" id=\"sk-estimator-id-1\" type=\"checkbox\" checked><label for=\"sk-estimator-id-1\" class=\"sk-toggleable__label sk-toggleable__label-arrow\">LogisticRegression</label><div class=\"sk-toggleable__content\"><pre>LogisticRegression()</pre></div></div></div></div></div>"
      ],
      "text/plain": [
       "LogisticRegression()"
      ]
     },
     "execution_count": 65,
     "metadata": {},
     "output_type": "execute_result"
    }
   ],
   "source": [
    "#Logistic Regression\n",
    "from sklearn.linear_model import LogisticRegression\n",
    "log_reg = LogisticRegression()\n",
    "log_reg.fit(normalised_train_df, y_train_balanced)\n"
   ]
  },
  {
   "cell_type": "code",
   "execution_count": 91,
   "id": "f165e599",
   "metadata": {},
   "outputs": [
    {
     "data": {
      "text/plain": [
       "array([1, 1, 1, 1, 1, 0, 1, 0, 1, 0, 1, 0, 1, 0, 1, 0, 0, 0, 1, 0, 0, 0,\n",
       "       1, 1, 0, 0, 0, 0, 1, 0, 1, 0, 0, 0, 1, 1, 0, 1, 0, 0, 1, 0, 1, 1,\n",
       "       1, 1, 0, 0, 1, 0, 0, 0, 1, 0, 1, 1, 1, 1, 0, 1, 0, 0, 1, 0, 0, 1,\n",
       "       0, 0, 0, 0, 0, 0, 0, 1, 0, 0, 1, 1, 0, 1, 0, 0, 0, 0, 0, 0, 1, 0,\n",
       "       0, 0, 0, 0, 1, 1, 0, 0, 1, 0, 0, 0, 1, 0, 1, 1, 0, 1, 1, 0, 1, 0,\n",
       "       1, 1, 1, 0, 1, 1, 0, 0, 0, 0, 0, 1, 0, 1, 0, 0, 1, 0, 1, 0, 0, 0,\n",
       "       0, 0, 0, 0, 0, 1, 0, 1, 0, 0, 1, 1, 1, 0, 0, 0, 1, 0, 1, 1, 1, 0,\n",
       "       0, 0, 1, 0, 0, 1, 1, 1, 0, 1, 0, 0, 0, 0, 0, 1, 0, 0, 1, 1, 0, 0,\n",
       "       0])"
      ]
     },
     "execution_count": 91,
     "metadata": {},
     "output_type": "execute_result"
    }
   ],
   "source": [
    "from sklearn.metrics import recall_score, accuracy_score, precision_score, f1_score, confusion_matrix\n",
    "new_predictions = log_reg.predict(normalised_test_df)\n",
    "new_predictions"
   ]
  },
  {
   "cell_type": "code",
   "execution_count": 68,
   "id": "2e21061c",
   "metadata": {},
   "outputs": [
    {
     "name": "stdout",
     "output_type": "stream",
     "text": [
      "0      3A\n",
      "1      3A\n",
      "2      3A\n",
      "3      3A\n",
      "4      3A\n",
      "       ..\n",
      "172    3A\n",
      "173    3A\n",
      "174    2A\n",
      "175    2A\n",
      "176    2A\n",
      "Length: 177, dtype: object\n"
     ]
    },
    {
     "data": {
      "text/plain": [
       "pandas.core.series.Series"
      ]
     },
     "execution_count": 68,
     "metadata": {},
     "output_type": "execute_result"
    }
   ],
   "source": [
    "label_map = {0:'2A',1:'3A'} \n",
    "new_pred = pd.Series(new_predictions)\n",
    "new_pred\n",
    "y_test_pred_norm  =  new_pred.map(label_map)\n",
    "print(y_test_pred_norm)\n",
    "type(y_test_pred_norm)"
   ]
  },
  {
   "cell_type": "code",
   "execution_count": 69,
   "id": "2a952302",
   "metadata": {},
   "outputs": [
    {
     "data": {
      "text/plain": [
       "array([[52, 24],\n",
       "       [53, 48]], dtype=int64)"
      ]
     },
     "execution_count": 69,
     "metadata": {},
     "output_type": "execute_result"
    }
   ],
   "source": [
    "cnf_mat = confusion_matrix(y_true=y_test, y_pred = y_test_pred_norm)\n",
    "cnf_mat"
   ]
  },
  {
   "cell_type": "code",
   "execution_count": 70,
   "id": "887e73c1",
   "metadata": {},
   "outputs": [
    {
     "name": "stdout",
     "output_type": "stream",
     "text": [
      "Accuracy: 56\n"
     ]
    }
   ],
   "source": [
    "accuracy = accuracy_score(y_true=y_test, y_pred=y_test_pred_norm)\n",
    "print('Accuracy: {}'.format(round(accuracy*100), 2)) #prints 53.0"
   ]
  },
  {
   "cell_type": "code",
   "execution_count": 71,
   "id": "853560d3",
   "metadata": {},
   "outputs": [
    {
     "data": {
      "text/plain": [
       "array([0.59983994, 0.46952257, 0.41927991, 0.51510204, 0.52525253])"
      ]
     },
     "execution_count": 71,
     "metadata": {},
     "output_type": "execute_result"
    }
   ],
   "source": [
    "from sklearn.model_selection import cross_val_score\n",
    "scores = cross_val_score(log_reg, normalised_train_df, y_train_balanced, cv=5, scoring='f1_macro')\n",
    "scores\n",
    "#prints\t\n",
    "#array([0.55594592, 0.4733312 , 0.55651249, 0.5245098 , 0.58315241])"
   ]
  },
  {
   "cell_type": "code",
   "execution_count": 72,
   "id": "7006f19b",
   "metadata": {},
   "outputs": [
    {
     "name": "stdout",
     "output_type": "stream",
     "text": [
      "F1: 57\n"
     ]
    }
   ],
   "source": [
    "f1 = f1_score(y_true=y_test, y_pred=y_test_pred_norm, pos_label='2A')\n",
    "print('F1: {}'.format(round(f1*100), 2)) #prints 45.0"
   ]
  },
  {
   "cell_type": "code",
   "execution_count": 74,
   "id": "87d88c2f",
   "metadata": {},
   "outputs": [
    {
     "name": "stdout",
     "output_type": "stream",
     "text": [
      "[52.72727272727272, 53.21100917431193, 46.55172413793103, 49.01960784313726, 8.51063829787234]\n"
     ]
    }
   ],
   "source": [
    "from sklearn.model_selection import KFold\n",
    "kf = KFold(n_splits=5)\n",
    "kf.split(normalised_train_df) \n",
    "f1_scores = []\n",
    "#run for every split\n",
    "for train_index, test_index in kf.split(normalised_train_df):\n",
    "  x_train, x_test = normalised_train_df.iloc[train_index], normalised_train_df.iloc[test_index]\n",
    "  y_train, y_test = y_train_balanced[train_index], y_train_balanced[test_index]\n",
    "  model = LogisticRegression().fit(x_train, y_train)\n",
    "  #save result to list\n",
    "  f1_scores.append(f1_score(y_true=y_test, y_pred=model.predict(x_test), \n",
    "                   pos_label = 0)*100)\n",
    "print(f1_scores)"
   ]
  },
  {
   "cell_type": "code",
   "execution_count": 75,
   "id": "e716f0ed",
   "metadata": {},
   "outputs": [
    {
     "data": {
      "text/plain": [
       "48.99598393574297"
      ]
     },
     "execution_count": 75,
     "metadata": {},
     "output_type": "execute_result"
    }
   ],
   "source": [
    "from sklearn.model_selection import LeaveOneOut\n",
    "loo = LeaveOneOut()\n",
    "scores = cross_val_score(LogisticRegression(), normalised_train_df, y_train_balanced, cv=loo, \n",
    "                         scoring='f1_macro')\n",
    "average_score = scores.mean() * 100\n",
    "average_score"
   ]
  },
  {
   "cell_type": "code",
   "execution_count": 77,
   "id": "da621d18",
   "metadata": {},
   "outputs": [
    {
     "data": {
      "text/plain": [
       "(99,)"
      ]
     },
     "execution_count": 77,
     "metadata": {},
     "output_type": "execute_result"
    }
   ],
   "source": [
    "y_test.shape"
   ]
  },
  {
   "cell_type": "code",
   "execution_count": 96,
   "id": "24827b47",
   "metadata": {},
   "outputs": [
    {
     "data": {
      "text/plain": [
       "array([1, 1, 1, 1, 1, 0, 1, 0, 1, 0, 1, 0, 1, 0, 1, 0, 0, 0, 1, 0, 0, 0,\n",
       "       1, 1, 0, 0, 0, 0, 1, 0, 1, 0, 0, 0, 1, 1, 0, 1, 0, 0, 1, 0, 1, 1,\n",
       "       1, 1, 0, 0, 1, 0, 0, 0, 1, 0, 1, 1, 1, 1, 0, 1, 0, 0, 1, 0, 0, 1,\n",
       "       0, 0, 0, 0, 0, 0, 0, 1, 0, 0, 1, 1, 0, 1, 0, 0, 0, 0, 0, 0, 1, 0,\n",
       "       0, 0, 0, 0, 1, 1, 0, 0, 1, 0, 0])"
      ]
     },
     "execution_count": 96,
     "metadata": {},
     "output_type": "execute_result"
    }
   ],
   "source": [
    " y_test_pred_norm_z = np.resize(new_predictions,99)\n",
    " y_test_pred_norm_z   "
   ]
  },
  {
   "cell_type": "code",
   "execution_count": 97,
   "id": "874a2377",
   "metadata": {},
   "outputs": [
    {
     "name": "stdout",
     "output_type": "stream",
     "text": [
      "Precision: 15\n"
     ]
    }
   ],
   "source": [
    "precision = precision_score(y_true=y_test, y_pred=y_test_pred_norm_z)\n",
    "print('Precision: {}'.format(round(precision*100), 2)) #prints 41.0"
   ]
  },
  {
   "cell_type": "code",
   "execution_count": 99,
   "id": "0c313584",
   "metadata": {},
   "outputs": [
    {
     "name": "stdout",
     "output_type": "stream",
     "text": [
      "Recall: 67\n"
     ]
    }
   ],
   "source": [
    "recall = recall_score(y_true=y_test, y_pred=y_test_pred_norm_z)\n",
    "print('Recall: {}'.format(round(recall*100), 2)) #prints 51.0 \n"
   ]
  },
  {
   "cell_type": "code",
   "execution_count": 106,
   "id": "2479f4ca",
   "metadata": {},
   "outputs": [
    {
     "data": {
      "text/plain": [
       "[0.631578947368421,\n",
       " 0.48484848484848486,\n",
       " 0.5306122448979592,\n",
       " 0.543859649122807,\n",
       " 0.4081632653061225]"
      ]
     },
     "execution_count": 106,
     "metadata": {},
     "output_type": "execute_result"
    }
   ],
   "source": [
    "from sklearn.model_selection import StratifiedKFold\n",
    "skf = StratifiedKFold(n_splits=5, shuffle=True, random_state=1)\n",
    "f1_scores = []\n",
    "#run for every split\n",
    "for train_index, test_index in skf.split(normalised_train_df, y_train_balanced):\n",
    "  x_train, x_test = np.array(normalised_train_df)[train_index], np.array(normalised_train_df)[test_index]\n",
    "  y_train, y_test  = y_train_balanced[train_index], y_train_balanced[test_index]\n",
    "  model = LogisticRegression().fit(x_train, y_train)\n",
    "  #save result to list\n",
    "  f1_scores.append(f1_score(y_true=y_test, y_pred=model.predict(x_test), pos_label=0))\n",
    "f1_scores"
   ]
  },
  {
   "cell_type": "code",
   "execution_count": null,
   "id": "18ed746f",
   "metadata": {},
   "outputs": [],
   "source": []
  }
 ],
 "metadata": {
  "kernelspec": {
   "display_name": "Python 3 (ipykernel)",
   "language": "python",
   "name": "python3"
  },
  "language_info": {
   "codemirror_mode": {
    "name": "ipython",
    "version": 3
   },
   "file_extension": ".py",
   "mimetype": "text/x-python",
   "name": "python",
   "nbconvert_exporter": "python",
   "pygments_lexer": "ipython3",
   "version": "3.11.5"
  }
 },
 "nbformat": 4,
 "nbformat_minor": 5
}
