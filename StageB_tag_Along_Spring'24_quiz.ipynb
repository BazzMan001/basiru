{
 "cells": [
  {
   "cell_type": "code",
   "execution_count": 186,
   "id": "d6e8f207",
   "metadata": {},
   "outputs": [],
   "source": [
    "#import required libraries\n",
    "import numpy as np\n",
    "import pandas as pd \n",
    "import seaborn as sns\n",
    "import matplotlib.pyplot as plt\n",
    "from sklearn.linear_model import LinearRegression, Ridge, Lasso\n",
    "from sklearn.metrics import mean_absolute_error, r2_score, mean_squared_error\n",
    "from sklearn.preprocessing import MinMaxScaler\n",
    "from sklearn.model_selection import train_test_split"
   ]
  },
  {
   "cell_type": "code",
   "execution_count": 187,
   "id": "c41995b8",
   "metadata": {},
   "outputs": [
    {
     "name": "stdout",
     "output_type": "stream",
     "text": [
      "<class 'pandas.core.frame.DataFrame'>\n",
      "RangeIndex: 19735 entries, 0 to 19734\n",
      "Data columns (total 29 columns):\n",
      " #   Column       Non-Null Count  Dtype  \n",
      "---  ------       --------------  -----  \n",
      " 0   date         19735 non-null  object \n",
      " 1   Appliances   19735 non-null  int64  \n",
      " 2   lights       19735 non-null  int64  \n",
      " 3   T1           19735 non-null  float64\n",
      " 4   RH_1         19735 non-null  float64\n",
      " 5   T2           19735 non-null  float64\n",
      " 6   RH_2         19735 non-null  float64\n",
      " 7   T3           19735 non-null  float64\n",
      " 8   RH_3         19735 non-null  float64\n",
      " 9   T4           19735 non-null  float64\n",
      " 10  RH_4         19735 non-null  float64\n",
      " 11  T5           19735 non-null  float64\n",
      " 12  RH_5         19735 non-null  float64\n",
      " 13  T6           19735 non-null  float64\n",
      " 14  RH_6         19735 non-null  float64\n",
      " 15  T7           19735 non-null  float64\n",
      " 16  RH_7         19735 non-null  float64\n",
      " 17  T8           19735 non-null  float64\n",
      " 18  RH_8         19735 non-null  float64\n",
      " 19  T9           19735 non-null  float64\n",
      " 20  RH_9         19735 non-null  float64\n",
      " 21  T_out        19735 non-null  float64\n",
      " 22  Press_mm_hg  19735 non-null  float64\n",
      " 23  RH_out       19735 non-null  float64\n",
      " 24  Windspeed    19735 non-null  float64\n",
      " 25  Visibility   19735 non-null  float64\n",
      " 26  Tdewpoint    19735 non-null  float64\n",
      " 27  rv1          19735 non-null  float64\n",
      " 28  rv2          19735 non-null  float64\n",
      "dtypes: float64(26), int64(2), object(1)\n",
      "memory usage: 4.4+ MB\n"
     ]
    }
   ],
   "source": [
    "df = pd.read_csv(\"C:/Users/HP/Downloads/energydata_complete.csv\")\n",
    "df.head()\n",
    "df.info()"
   ]
  },
  {
   "cell_type": "code",
   "execution_count": 125,
   "id": "c2f5fc09",
   "metadata": {},
   "outputs": [
    {
     "name": "stdout",
     "output_type": "stream",
     "text": [
      "[[19.2       ]\n",
      " [19.2       ]\n",
      " [19.2       ]\n",
      " ...\n",
      " [25.62857143]\n",
      " [25.414     ]\n",
      " [25.26428571]]\n",
      "[[ 7.02666667]\n",
      " [ 6.83333333]\n",
      " [ 6.56      ]\n",
      " ...\n",
      " [23.62666667]\n",
      " [22.43333333]\n",
      " [21.02666667]]\n"
     ]
    }
   ],
   "source": [
    "feature_matrix = 'T2'\n",
    "target_vector = 'T6'\n",
    "x = df[[feature_matrix]].values\n",
    "print(x)\n",
    "y = df[[target_vector]].values\n",
    "print(y)"
   ]
  },
  {
   "cell_type": "code",
   "execution_count": 126,
   "id": "6beceb22",
   "metadata": {},
   "outputs": [
    {
     "data": {
      "text/html": [
       "<style>#sk-container-id-7 {color: black;}#sk-container-id-7 pre{padding: 0;}#sk-container-id-7 div.sk-toggleable {background-color: white;}#sk-container-id-7 label.sk-toggleable__label {cursor: pointer;display: block;width: 100%;margin-bottom: 0;padding: 0.3em;box-sizing: border-box;text-align: center;}#sk-container-id-7 label.sk-toggleable__label-arrow:before {content: \"▸\";float: left;margin-right: 0.25em;color: #696969;}#sk-container-id-7 label.sk-toggleable__label-arrow:hover:before {color: black;}#sk-container-id-7 div.sk-estimator:hover label.sk-toggleable__label-arrow:before {color: black;}#sk-container-id-7 div.sk-toggleable__content {max-height: 0;max-width: 0;overflow: hidden;text-align: left;background-color: #f0f8ff;}#sk-container-id-7 div.sk-toggleable__content pre {margin: 0.2em;color: black;border-radius: 0.25em;background-color: #f0f8ff;}#sk-container-id-7 input.sk-toggleable__control:checked~div.sk-toggleable__content {max-height: 200px;max-width: 100%;overflow: auto;}#sk-container-id-7 input.sk-toggleable__control:checked~label.sk-toggleable__label-arrow:before {content: \"▾\";}#sk-container-id-7 div.sk-estimator input.sk-toggleable__control:checked~label.sk-toggleable__label {background-color: #d4ebff;}#sk-container-id-7 div.sk-label input.sk-toggleable__control:checked~label.sk-toggleable__label {background-color: #d4ebff;}#sk-container-id-7 input.sk-hidden--visually {border: 0;clip: rect(1px 1px 1px 1px);clip: rect(1px, 1px, 1px, 1px);height: 1px;margin: -1px;overflow: hidden;padding: 0;position: absolute;width: 1px;}#sk-container-id-7 div.sk-estimator {font-family: monospace;background-color: #f0f8ff;border: 1px dotted black;border-radius: 0.25em;box-sizing: border-box;margin-bottom: 0.5em;}#sk-container-id-7 div.sk-estimator:hover {background-color: #d4ebff;}#sk-container-id-7 div.sk-parallel-item::after {content: \"\";width: 100%;border-bottom: 1px solid gray;flex-grow: 1;}#sk-container-id-7 div.sk-label:hover label.sk-toggleable__label {background-color: #d4ebff;}#sk-container-id-7 div.sk-serial::before {content: \"\";position: absolute;border-left: 1px solid gray;box-sizing: border-box;top: 0;bottom: 0;left: 50%;z-index: 0;}#sk-container-id-7 div.sk-serial {display: flex;flex-direction: column;align-items: center;background-color: white;padding-right: 0.2em;padding-left: 0.2em;position: relative;}#sk-container-id-7 div.sk-item {position: relative;z-index: 1;}#sk-container-id-7 div.sk-parallel {display: flex;align-items: stretch;justify-content: center;background-color: white;position: relative;}#sk-container-id-7 div.sk-item::before, #sk-container-id-7 div.sk-parallel-item::before {content: \"\";position: absolute;border-left: 1px solid gray;box-sizing: border-box;top: 0;bottom: 0;left: 50%;z-index: -1;}#sk-container-id-7 div.sk-parallel-item {display: flex;flex-direction: column;z-index: 1;position: relative;background-color: white;}#sk-container-id-7 div.sk-parallel-item:first-child::after {align-self: flex-end;width: 50%;}#sk-container-id-7 div.sk-parallel-item:last-child::after {align-self: flex-start;width: 50%;}#sk-container-id-7 div.sk-parallel-item:only-child::after {width: 0;}#sk-container-id-7 div.sk-dashed-wrapped {border: 1px dashed gray;margin: 0 0.4em 0.5em 0.4em;box-sizing: border-box;padding-bottom: 0.4em;background-color: white;}#sk-container-id-7 div.sk-label label {font-family: monospace;font-weight: bold;display: inline-block;line-height: 1.2em;}#sk-container-id-7 div.sk-label-container {text-align: center;}#sk-container-id-7 div.sk-container {/* jupyter's `normalize.less` sets `[hidden] { display: none; }` but bootstrap.min.css set `[hidden] { display: none !important; }` so we also need the `!important` here to be able to override the default hidden behavior on the sphinx rendered scikit-learn.org. See: https://github.com/scikit-learn/scikit-learn/issues/21755 */display: inline-block !important;position: relative;}#sk-container-id-7 div.sk-text-repr-fallback {display: none;}</style><div id=\"sk-container-id-7\" class=\"sk-top-container\"><div class=\"sk-text-repr-fallback\"><pre>LinearRegression()</pre><b>In a Jupyter environment, please rerun this cell to show the HTML representation or trust the notebook. <br />On GitHub, the HTML representation is unable to render, please try loading this page with nbviewer.org.</b></div><div class=\"sk-container\" hidden><div class=\"sk-item\"><div class=\"sk-estimator sk-toggleable\"><input class=\"sk-toggleable__control sk-hidden--visually\" id=\"sk-estimator-id-7\" type=\"checkbox\" checked><label for=\"sk-estimator-id-7\" class=\"sk-toggleable__label sk-toggleable__label-arrow\">LinearRegression</label><div class=\"sk-toggleable__content\"><pre>LinearRegression()</pre></div></div></div></div></div>"
      ],
      "text/plain": [
       "LinearRegression()"
      ]
     },
     "execution_count": 126,
     "metadata": {},
     "output_type": "execute_result"
    }
   ],
   "source": [
    "#Instantiate the model\n",
    "linear_model = LinearRegression()\n",
    "linear_model.fit(x,y)"
   ]
  },
  {
   "cell_type": "code",
   "execution_count": 127,
   "id": "d534265d",
   "metadata": {},
   "outputs": [
    {
     "data": {
      "text/plain": [
       "array([[ 5.37165597],\n",
       "       [ 5.37165597],\n",
       "       [ 5.37165597],\n",
       "       ...,\n",
       "       [19.67562202],\n",
       "       [19.19818742],\n",
       "       [18.86506395]])"
      ]
     },
     "execution_count": 127,
     "metadata": {},
     "output_type": "execute_result"
    }
   ],
   "source": [
    "y_pred = linear_model.predict(x)\n",
    "y_pred"
   ]
  },
  {
   "cell_type": "code",
   "execution_count": 128,
   "id": "c590d03a",
   "metadata": {},
   "outputs": [
    {
     "data": {
      "text/plain": [
       "3.644"
      ]
     },
     "execution_count": 128,
     "metadata": {},
     "output_type": "execute_result"
    }
   ],
   "source": [
    "rmse = np.sqrt(mean_squared_error(y, y_pred))\n",
    "round(rmse, 3)"
   ]
  },
  {
   "cell_type": "code",
   "execution_count": 189,
   "id": "d990c447",
   "metadata": {},
   "outputs": [
    {
     "name": "stdout",
     "output_type": "stream",
     "text": [
      "   Appliances     T1       RH_1    T2       RH_2     T3       RH_3         T4  \\\n",
      "0          60  19.89  47.596667  19.2  44.790000  19.79  44.730000  19.000000   \n",
      "1          60  19.89  46.693333  19.2  44.722500  19.79  44.790000  19.000000   \n",
      "2          50  19.89  46.300000  19.2  44.626667  19.79  44.933333  18.926667   \n",
      "3          50  19.89  46.066667  19.2  44.590000  19.79  45.000000  18.890000   \n",
      "4          60  19.89  46.333333  19.2  44.530000  19.79  45.000000  18.890000   \n",
      "\n",
      "        RH_4         T5  ...         T9   RH_9     T_out  Press_mm_hg  RH_out  \\\n",
      "0  45.566667  17.166667  ...  17.033333  45.53  6.600000        733.5    92.0   \n",
      "1  45.992500  17.166667  ...  17.066667  45.56  6.483333        733.6    92.0   \n",
      "2  45.890000  17.166667  ...  17.000000  45.50  6.366667        733.7    92.0   \n",
      "3  45.723333  17.166667  ...  17.000000  45.40  6.250000        733.8    92.0   \n",
      "4  45.530000  17.200000  ...  17.000000  45.40  6.133333        733.9    92.0   \n",
      "\n",
      "   Windspeed  Visibility  Tdewpoint        rv1        rv2  \n",
      "0   7.000000   63.000000        5.3  13.275433  13.275433  \n",
      "1   6.666667   59.166667        5.2  18.606195  18.606195  \n",
      "2   6.333333   55.333333        5.1  28.642668  28.642668  \n",
      "3   6.000000   51.500000        5.0  45.410389  45.410389  \n",
      "4   5.666667   47.666667        4.9  10.084097  10.084097  \n",
      "\n",
      "[5 rows x 27 columns]\n"
     ]
    }
   ],
   "source": [
    "new_df = df.drop(columns = [\"date\", \"lights\"])\n",
    "print(new_df.head())\n",
    "#Instantiate MinMaxScaler\n",
    "scaler = MinMaxScaler()\n"
   ]
  },
  {
   "cell_type": "code",
   "execution_count": 190,
   "id": "0eedce61",
   "metadata": {},
   "outputs": [
    {
     "name": "stdout",
     "output_type": "stream",
     "text": [
      "      T1       RH_1    T2       RH_2     T3       RH_3         T4       RH_4  \\\n",
      "0  19.89  47.596667  19.2  44.790000  19.79  44.730000  19.000000  45.566667   \n",
      "1  19.89  46.693333  19.2  44.722500  19.79  44.790000  19.000000  45.992500   \n",
      "2  19.89  46.300000  19.2  44.626667  19.79  44.933333  18.926667  45.890000   \n",
      "3  19.89  46.066667  19.2  44.590000  19.79  45.000000  18.890000  45.723333   \n",
      "4  19.89  46.333333  19.2  44.530000  19.79  45.000000  18.890000  45.530000   \n",
      "\n",
      "          T5   RH_5  ...         T9   RH_9     T_out  Press_mm_hg  RH_out  \\\n",
      "0  17.166667  55.20  ...  17.033333  45.53  6.600000        733.5    92.0   \n",
      "1  17.166667  55.20  ...  17.066667  45.56  6.483333        733.6    92.0   \n",
      "2  17.166667  55.09  ...  17.000000  45.50  6.366667        733.7    92.0   \n",
      "3  17.166667  55.09  ...  17.000000  45.40  6.250000        733.8    92.0   \n",
      "4  17.200000  55.09  ...  17.000000  45.40  6.133333        733.9    92.0   \n",
      "\n",
      "   Windspeed  Visibility  Tdewpoint        rv1        rv2  \n",
      "0   7.000000   63.000000        5.3  13.275433  13.275433  \n",
      "1   6.666667   59.166667        5.2  18.606195  18.606195  \n",
      "2   6.333333   55.333333        5.1  28.642668  28.642668  \n",
      "3   6.000000   51.500000        5.0  45.410389  45.410389  \n",
      "4   5.666667   47.666667        4.9  10.084097  10.084097  \n",
      "\n",
      "[5 rows x 26 columns]\n"
     ]
    },
    {
     "data": {
      "text/plain": [
       "0    60\n",
       "1    60\n",
       "2    50\n",
       "3    50\n",
       "4    60\n",
       "Name: Appliances, dtype: int64"
      ]
     },
     "execution_count": 190,
     "metadata": {},
     "output_type": "execute_result"
    }
   ],
   "source": [
    "feature_matrix = new_df.drop(columns = \"Appliances\")\n",
    "# Convert DataFrame to Series\n",
    "feature_matrix.squeeze()\n",
    "print(feature_matrix.head())\n",
    "target_vector = new_df[\"Appliances\"]\n",
    "target_vector.head()"
   ]
  },
  {
   "cell_type": "code",
   "execution_count": 191,
   "id": "5022e479",
   "metadata": {},
   "outputs": [
    {
     "name": "stdout",
     "output_type": "stream",
     "text": [
      "[[19.89       47.59666667 19.2        ...  5.3        13.27543316\n",
      "  13.27543316]\n",
      " [19.89       46.69333333 19.2        ...  5.2        18.60619498\n",
      "  18.60619498]\n",
      " [19.89       46.3        19.2        ...  5.1        28.64266817\n",
      "  28.64266817]\n",
      " ...\n",
      " [25.5        46.59666667 25.62857143 ... 13.26666667 29.19911708\n",
      "  29.19911708]\n",
      " [25.5        46.99       25.414      ... 13.23333333  6.32278365\n",
      "   6.32278365]\n",
      " [25.5        46.6        25.26428571 ... 13.2        34.11885059\n",
      "  34.11885059]]\n"
     ]
    },
    {
     "data": {
      "text/plain": [
       "array([ 60,  60,  50, ..., 270, 420, 430], dtype=int64)"
      ]
     },
     "execution_count": 191,
     "metadata": {},
     "output_type": "execute_result"
    }
   ],
   "source": [
    "x = feature_matrix.values\n",
    "print(x)\n",
    "y = target_vector.values\n",
    "y"
   ]
  },
  {
   "cell_type": "code",
   "execution_count": 192,
   "id": "f82bdcc1",
   "metadata": {},
   "outputs": [
    {
     "name": "stdout",
     "output_type": "stream",
     "text": [
      "[[21.5        35.62666667 17.79       ... -2.35       36.22667453\n",
      "  36.22667453]\n",
      " [19.5        44.56       18.7        ...  0.96666667 43.19976665\n",
      "  43.19976665]\n",
      " [20.79       35.4        16.89       ... -3.1        24.97605482\n",
      "  24.97605482]\n",
      " ...\n",
      " [20.29       35.7        18.2        ... -2.93333333 19.07135808\n",
      "  19.07135808]\n",
      " [21.79       35.56       20.434      ... -4.06666667  1.05059214\n",
      "   1.05059214]\n",
      " [21.32333333 37.73       19.89       ...  4.35       17.45604014\n",
      "  17.45604014]]\n"
     ]
    }
   ],
   "source": [
    "#Now we split our dataset into the training and testing dataset.Recall that we had earlier segmented the feature and target \n",
    "#variables.\n",
    "x_train, x_test, y_train, y_test = train_test_split(x, y, test_size = 0.3, random_state = 42)\n",
    "print(x_train)\n"
   ]
  },
  {
   "cell_type": "code",
   "execution_count": 134,
   "id": "955fc4d2",
   "metadata": {},
   "outputs": [
    {
     "name": "stdout",
     "output_type": "stream",
     "text": [
      "[ 50  30  40 ...  30  80 130]\n"
     ]
    }
   ],
   "source": [
    "print(y_train)"
   ]
  },
  {
   "cell_type": "code",
   "execution_count": 193,
   "id": "5ac4d5f1",
   "metadata": {},
   "outputs": [
    {
     "data": {
      "text/plain": [
       "array([[0.49736008, 0.28300439, 0.12284953, ..., 0.19318182, 0.72450918,\n",
       "        0.72450918],\n",
       "       [0.28616684, 0.57686404, 0.18899927, ..., 0.34393939, 0.86401848,\n",
       "        0.86401848],\n",
       "       [0.42238648, 0.27554825, 0.0574267 , ..., 0.15909091, 0.49942021,\n",
       "        0.49942021],\n",
       "       ...,\n",
       "       [0.36958817, 0.28541667, 0.15265326, ..., 0.16666667, 0.38128609,\n",
       "        0.38128609],\n",
       "       [0.5279831 , 0.2808114 , 0.31504725, ..., 0.11515152, 0.02074813,\n",
       "        0.02074813],\n",
       "       [0.47870468, 0.35219298, 0.27550279, ..., 0.49772727, 0.34896874,\n",
       "        0.34896874]])"
      ]
     },
     "execution_count": 193,
     "metadata": {},
     "output_type": "execute_result"
    }
   ],
   "source": [
    "#Now we transform x_train using fit_tranform\n",
    "x_train_trans = scaler.fit_transform(x_train)\n",
    "x_train_trans"
   ]
  },
  {
   "cell_type": "code",
   "execution_count": 194,
   "id": "f580e5c9",
   "metadata": {},
   "outputs": [
    {
     "data": {
      "text/plain": [
       "array([1.00217047, 1.44946484, 1.20261226, ..., 0.39015235, 1.12680336,\n",
       "       1.92703279])"
      ]
     },
     "execution_count": 194,
     "metadata": {},
     "output_type": "execute_result"
    }
   ],
   "source": [
    "#Instantiate linear regression\n",
    "linear_model = LinearRegression()\n",
    "#fit the model to the training dataset\n",
    "linear_model.fit(x_train, y_train )\n",
    "#obtain prediction\n",
    "y_train_pred = linear_model.predict(x_train_trans)\n",
    "y_train_pred"
   ]
  },
  {
   "cell_type": "code",
   "execution_count": 142,
   "id": "abfceb99",
   "metadata": {},
   "outputs": [
    {
     "data": {
      "text/plain": [
       "53.742"
      ]
     },
     "execution_count": 142,
     "metadata": {},
     "output_type": "execute_result"
    }
   ],
   "source": [
    "mae = mean_absolute_error(y_train, y_train_pred)\n",
    "round(mae, 3) "
   ]
  },
  {
   "cell_type": "code",
   "execution_count": 143,
   "id": "b9152ee7",
   "metadata": {},
   "outputs": [
    {
     "data": {
      "text/plain": [
       "95.216"
      ]
     },
     "execution_count": 143,
     "metadata": {},
     "output_type": "execute_result"
    }
   ],
   "source": [
    "rmse = np.sqrt(mean_squared_error(y_train, y_train_pred))\n",
    "round(rmse, 3)"
   ]
  },
  {
   "cell_type": "code",
   "execution_count": 144,
   "id": "acb92a39",
   "metadata": {},
   "outputs": [
    {
     "name": "stdout",
     "output_type": "stream",
     "text": [
      "[[20.89       35.4        17.76       ...  0.         25.6222214\n",
      "  25.6222214 ]\n",
      " [21.89       53.1        21.29       ...  1.2        23.47448458\n",
      "  23.47448458]\n",
      " [21.39       35.5        17.63333333 ... -2.4         0.14336776\n",
      "   0.14336776]\n",
      " ...\n",
      " [20.92666667 39.4        18.7        ...  4.78333333 39.63351334\n",
      "  39.63351334]\n",
      " [22.         41.23       20.7        ...  4.9        30.41532108\n",
      "  30.41532108]\n",
      " [20.89       42.29       19.03333333 ...  9.76666667  9.94913896\n",
      "   9.94913896]]\n"
     ]
    }
   ],
   "source": [
    "print(x_test)"
   ]
  },
  {
   "cell_type": "code",
   "execution_count": 145,
   "id": "9e98ff64",
   "metadata": {},
   "outputs": [
    {
     "name": "stdout",
     "output_type": "stream",
     "text": [
      "[[0.43294615 0.22605647 0.12125639 ... 0.29598789 0.51267835 0.51267835]\n",
      " [0.53854277 0.71599926 0.37910884 ... 0.35049205 0.46969508 0.46969508]\n",
      " [0.48574446 0.22882451 0.1120039  ... 0.18697956 0.00276276 0.00276276]\n",
      " ...\n",
      " [0.43681802 0.336778   0.18991965 ... 0.51324754 0.79309035 0.79309035]\n",
      " [0.55015839 0.38743311 0.33601169 ... 0.51854656 0.60860403 0.60860403]\n",
      " [0.43294615 0.41677431 0.21426832 ... 0.73959122 0.19900846 0.19900846]]\n"
     ]
    }
   ],
   "source": [
    "# Now we tranform x_test using .tranform(), NB: we must use .transform() after we have applied the fit object.\n",
    "fitted = scaler.fit(x_test)  \n",
    "x_test_trans = fitted.transform(x_test)\n",
    "print(x_test_trans)"
   ]
  },
  {
   "cell_type": "code",
   "execution_count": 105,
   "id": "18972eee",
   "metadata": {},
   "outputs": [
    {
     "name": "stdout",
     "output_type": "stream",
     "text": [
      "[ 40  90  50 ...  50 110  50]\n"
     ]
    }
   ],
   "source": [
    "print(y_test)"
   ]
  },
  {
   "cell_type": "code",
   "execution_count": 147,
   "id": "6b5466da",
   "metadata": {},
   "outputs": [
    {
     "data": {
      "text/plain": [
       "array([ 29.08252491, 216.57555558,  29.73542777, ...,  58.10073354,\n",
       "        88.38573789,  40.53306402])"
      ]
     },
     "execution_count": 147,
     "metadata": {},
     "output_type": "execute_result"
    }
   ],
   "source": [
    "# obtain prediction\n",
    "y_test_pred = linear_model.predict(x_test_trans)\n",
    "y_test_pred"
   ]
  },
  {
   "cell_type": "code",
   "execution_count": 148,
   "id": "eb9e309d",
   "metadata": {},
   "outputs": [
    {
     "data": {
      "text/plain": [
       "49.093"
      ]
     },
     "execution_count": 148,
     "metadata": {},
     "output_type": "execute_result"
    }
   ],
   "source": [
    "mae = mean_absolute_error(y_test, y_test_pred)\n",
    "round(mae, 3) "
   ]
  },
  {
   "cell_type": "code",
   "execution_count": 149,
   "id": "0b2fcc08",
   "metadata": {},
   "outputs": [
    {
     "data": {
      "text/plain": [
       "97.531"
      ]
     },
     "execution_count": 149,
     "metadata": {},
     "output_type": "execute_result"
    }
   ],
   "source": [
    "rmse = np.sqrt(mean_squared_error(y_test, y_test_pred))\n",
    "round(rmse, 3)"
   ]
  },
  {
   "cell_type": "code",
   "execution_count": 151,
   "id": "16839aac",
   "metadata": {},
   "outputs": [
    {
     "data": {
      "text/html": [
       "<style>#sk-container-id-9 {color: black;}#sk-container-id-9 pre{padding: 0;}#sk-container-id-9 div.sk-toggleable {background-color: white;}#sk-container-id-9 label.sk-toggleable__label {cursor: pointer;display: block;width: 100%;margin-bottom: 0;padding: 0.3em;box-sizing: border-box;text-align: center;}#sk-container-id-9 label.sk-toggleable__label-arrow:before {content: \"▸\";float: left;margin-right: 0.25em;color: #696969;}#sk-container-id-9 label.sk-toggleable__label-arrow:hover:before {color: black;}#sk-container-id-9 div.sk-estimator:hover label.sk-toggleable__label-arrow:before {color: black;}#sk-container-id-9 div.sk-toggleable__content {max-height: 0;max-width: 0;overflow: hidden;text-align: left;background-color: #f0f8ff;}#sk-container-id-9 div.sk-toggleable__content pre {margin: 0.2em;color: black;border-radius: 0.25em;background-color: #f0f8ff;}#sk-container-id-9 input.sk-toggleable__control:checked~div.sk-toggleable__content {max-height: 200px;max-width: 100%;overflow: auto;}#sk-container-id-9 input.sk-toggleable__control:checked~label.sk-toggleable__label-arrow:before {content: \"▾\";}#sk-container-id-9 div.sk-estimator input.sk-toggleable__control:checked~label.sk-toggleable__label {background-color: #d4ebff;}#sk-container-id-9 div.sk-label input.sk-toggleable__control:checked~label.sk-toggleable__label {background-color: #d4ebff;}#sk-container-id-9 input.sk-hidden--visually {border: 0;clip: rect(1px 1px 1px 1px);clip: rect(1px, 1px, 1px, 1px);height: 1px;margin: -1px;overflow: hidden;padding: 0;position: absolute;width: 1px;}#sk-container-id-9 div.sk-estimator {font-family: monospace;background-color: #f0f8ff;border: 1px dotted black;border-radius: 0.25em;box-sizing: border-box;margin-bottom: 0.5em;}#sk-container-id-9 div.sk-estimator:hover {background-color: #d4ebff;}#sk-container-id-9 div.sk-parallel-item::after {content: \"\";width: 100%;border-bottom: 1px solid gray;flex-grow: 1;}#sk-container-id-9 div.sk-label:hover label.sk-toggleable__label {background-color: #d4ebff;}#sk-container-id-9 div.sk-serial::before {content: \"\";position: absolute;border-left: 1px solid gray;box-sizing: border-box;top: 0;bottom: 0;left: 50%;z-index: 0;}#sk-container-id-9 div.sk-serial {display: flex;flex-direction: column;align-items: center;background-color: white;padding-right: 0.2em;padding-left: 0.2em;position: relative;}#sk-container-id-9 div.sk-item {position: relative;z-index: 1;}#sk-container-id-9 div.sk-parallel {display: flex;align-items: stretch;justify-content: center;background-color: white;position: relative;}#sk-container-id-9 div.sk-item::before, #sk-container-id-9 div.sk-parallel-item::before {content: \"\";position: absolute;border-left: 1px solid gray;box-sizing: border-box;top: 0;bottom: 0;left: 50%;z-index: -1;}#sk-container-id-9 div.sk-parallel-item {display: flex;flex-direction: column;z-index: 1;position: relative;background-color: white;}#sk-container-id-9 div.sk-parallel-item:first-child::after {align-self: flex-end;width: 50%;}#sk-container-id-9 div.sk-parallel-item:last-child::after {align-self: flex-start;width: 50%;}#sk-container-id-9 div.sk-parallel-item:only-child::after {width: 0;}#sk-container-id-9 div.sk-dashed-wrapped {border: 1px dashed gray;margin: 0 0.4em 0.5em 0.4em;box-sizing: border-box;padding-bottom: 0.4em;background-color: white;}#sk-container-id-9 div.sk-label label {font-family: monospace;font-weight: bold;display: inline-block;line-height: 1.2em;}#sk-container-id-9 div.sk-label-container {text-align: center;}#sk-container-id-9 div.sk-container {/* jupyter's `normalize.less` sets `[hidden] { display: none; }` but bootstrap.min.css set `[hidden] { display: none !important; }` so we also need the `!important` here to be able to override the default hidden behavior on the sphinx rendered scikit-learn.org. See: https://github.com/scikit-learn/scikit-learn/issues/21755 */display: inline-block !important;position: relative;}#sk-container-id-9 div.sk-text-repr-fallback {display: none;}</style><div id=\"sk-container-id-9\" class=\"sk-top-container\"><div class=\"sk-text-repr-fallback\"><pre>Ridge()</pre><b>In a Jupyter environment, please rerun this cell to show the HTML representation or trust the notebook. <br />On GitHub, the HTML representation is unable to render, please try loading this page with nbviewer.org.</b></div><div class=\"sk-container\" hidden><div class=\"sk-item\"><div class=\"sk-estimator sk-toggleable\"><input class=\"sk-toggleable__control sk-hidden--visually\" id=\"sk-estimator-id-9\" type=\"checkbox\" checked><label for=\"sk-estimator-id-9\" class=\"sk-toggleable__label sk-toggleable__label-arrow\">Ridge</label><div class=\"sk-toggleable__content\"><pre>Ridge()</pre></div></div></div></div></div>"
      ],
      "text/plain": [
       "Ridge()"
      ]
     },
     "execution_count": 151,
     "metadata": {},
     "output_type": "execute_result"
    }
   ],
   "source": [
    "ridge_reg = Ridge(alpha=1.0)\n",
    "ridge_reg.fit(x_train_trans, y_train)"
   ]
  },
  {
   "cell_type": "code",
   "execution_count": 153,
   "id": "094c9998",
   "metadata": {},
   "outputs": [
    {
     "data": {
      "text/plain": [
       "array([ 30.32993357, 215.16278509,  32.18134883, ...,  60.63295287,\n",
       "        90.89329948,  46.20793666])"
      ]
     },
     "execution_count": 153,
     "metadata": {},
     "output_type": "execute_result"
    }
   ],
   "source": [
    "y_test_pred_r = ridge_reg.predict(x_test_trans)\n",
    "y_test_pred_r\n"
   ]
  },
  {
   "cell_type": "code",
   "execution_count": 154,
   "id": "27474900",
   "metadata": {},
   "outputs": [
    {
     "data": {
      "text/plain": [
       "96.919"
      ]
     },
     "execution_count": 154,
     "metadata": {},
     "output_type": "execute_result"
    }
   ],
   "source": [
    "rmse = np.sqrt(mean_squared_error(y_test, y_test_pred_r))\n",
    "round(rmse, 3)"
   ]
  },
  {
   "cell_type": "code",
   "execution_count": 155,
   "id": "3f6e8734",
   "metadata": {},
   "outputs": [
    {
     "data": {
      "text/html": [
       "<style>#sk-container-id-10 {color: black;}#sk-container-id-10 pre{padding: 0;}#sk-container-id-10 div.sk-toggleable {background-color: white;}#sk-container-id-10 label.sk-toggleable__label {cursor: pointer;display: block;width: 100%;margin-bottom: 0;padding: 0.3em;box-sizing: border-box;text-align: center;}#sk-container-id-10 label.sk-toggleable__label-arrow:before {content: \"▸\";float: left;margin-right: 0.25em;color: #696969;}#sk-container-id-10 label.sk-toggleable__label-arrow:hover:before {color: black;}#sk-container-id-10 div.sk-estimator:hover label.sk-toggleable__label-arrow:before {color: black;}#sk-container-id-10 div.sk-toggleable__content {max-height: 0;max-width: 0;overflow: hidden;text-align: left;background-color: #f0f8ff;}#sk-container-id-10 div.sk-toggleable__content pre {margin: 0.2em;color: black;border-radius: 0.25em;background-color: #f0f8ff;}#sk-container-id-10 input.sk-toggleable__control:checked~div.sk-toggleable__content {max-height: 200px;max-width: 100%;overflow: auto;}#sk-container-id-10 input.sk-toggleable__control:checked~label.sk-toggleable__label-arrow:before {content: \"▾\";}#sk-container-id-10 div.sk-estimator input.sk-toggleable__control:checked~label.sk-toggleable__label {background-color: #d4ebff;}#sk-container-id-10 div.sk-label input.sk-toggleable__control:checked~label.sk-toggleable__label {background-color: #d4ebff;}#sk-container-id-10 input.sk-hidden--visually {border: 0;clip: rect(1px 1px 1px 1px);clip: rect(1px, 1px, 1px, 1px);height: 1px;margin: -1px;overflow: hidden;padding: 0;position: absolute;width: 1px;}#sk-container-id-10 div.sk-estimator {font-family: monospace;background-color: #f0f8ff;border: 1px dotted black;border-radius: 0.25em;box-sizing: border-box;margin-bottom: 0.5em;}#sk-container-id-10 div.sk-estimator:hover {background-color: #d4ebff;}#sk-container-id-10 div.sk-parallel-item::after {content: \"\";width: 100%;border-bottom: 1px solid gray;flex-grow: 1;}#sk-container-id-10 div.sk-label:hover label.sk-toggleable__label {background-color: #d4ebff;}#sk-container-id-10 div.sk-serial::before {content: \"\";position: absolute;border-left: 1px solid gray;box-sizing: border-box;top: 0;bottom: 0;left: 50%;z-index: 0;}#sk-container-id-10 div.sk-serial {display: flex;flex-direction: column;align-items: center;background-color: white;padding-right: 0.2em;padding-left: 0.2em;position: relative;}#sk-container-id-10 div.sk-item {position: relative;z-index: 1;}#sk-container-id-10 div.sk-parallel {display: flex;align-items: stretch;justify-content: center;background-color: white;position: relative;}#sk-container-id-10 div.sk-item::before, #sk-container-id-10 div.sk-parallel-item::before {content: \"\";position: absolute;border-left: 1px solid gray;box-sizing: border-box;top: 0;bottom: 0;left: 50%;z-index: -1;}#sk-container-id-10 div.sk-parallel-item {display: flex;flex-direction: column;z-index: 1;position: relative;background-color: white;}#sk-container-id-10 div.sk-parallel-item:first-child::after {align-self: flex-end;width: 50%;}#sk-container-id-10 div.sk-parallel-item:last-child::after {align-self: flex-start;width: 50%;}#sk-container-id-10 div.sk-parallel-item:only-child::after {width: 0;}#sk-container-id-10 div.sk-dashed-wrapped {border: 1px dashed gray;margin: 0 0.4em 0.5em 0.4em;box-sizing: border-box;padding-bottom: 0.4em;background-color: white;}#sk-container-id-10 div.sk-label label {font-family: monospace;font-weight: bold;display: inline-block;line-height: 1.2em;}#sk-container-id-10 div.sk-label-container {text-align: center;}#sk-container-id-10 div.sk-container {/* jupyter's `normalize.less` sets `[hidden] { display: none; }` but bootstrap.min.css set `[hidden] { display: none !important; }` so we also need the `!important` here to be able to override the default hidden behavior on the sphinx rendered scikit-learn.org. See: https://github.com/scikit-learn/scikit-learn/issues/21755 */display: inline-block !important;position: relative;}#sk-container-id-10 div.sk-text-repr-fallback {display: none;}</style><div id=\"sk-container-id-10\" class=\"sk-top-container\"><div class=\"sk-text-repr-fallback\"><pre>Lasso()</pre><b>In a Jupyter environment, please rerun this cell to show the HTML representation or trust the notebook. <br />On GitHub, the HTML representation is unable to render, please try loading this page with nbviewer.org.</b></div><div class=\"sk-container\" hidden><div class=\"sk-item\"><div class=\"sk-estimator sk-toggleable\"><input class=\"sk-toggleable__control sk-hidden--visually\" id=\"sk-estimator-id-10\" type=\"checkbox\" checked><label for=\"sk-estimator-id-10\" class=\"sk-toggleable__label sk-toggleable__label-arrow\">Lasso</label><div class=\"sk-toggleable__content\"><pre>Lasso()</pre></div></div></div></div></div>"
      ],
      "text/plain": [
       "Lasso()"
      ]
     },
     "execution_count": 155,
     "metadata": {},
     "output_type": "execute_result"
    }
   ],
   "source": [
    "lasso_reg = Lasso(alpha = 1.0)\n",
    "lasso_reg.fit(x_train_trans, y_train)"
   ]
  },
  {
   "cell_type": "code",
   "execution_count": 199,
   "id": "44a57225",
   "metadata": {},
   "outputs": [
    {
     "name": "stdout",
     "output_type": "stream",
     "text": [
      "Index(['T1', 'RH_1', 'T2', 'RH_2', 'T3', 'RH_3', 'T4', 'RH_4', 'T5', 'RH_5',\n",
      "       'T6', 'RH_6', 'T7', 'RH_7', 'T8', 'RH_8', 'T9', 'RH_9', 'T_out',\n",
      "       'Press_mm_hg', 'RH_out', 'Windspeed', 'Visibility', 'Tdewpoint', 'rv1',\n",
      "       'rv2'],\n",
      "      dtype='object')\n"
     ]
    }
   ],
   "source": [
    "feat = feature_matrix.columns\n",
    "features = x_train_trans\n",
    "print(feat)  "
   ]
  },
  {
   "cell_type": "code",
   "execution_count": 200,
   "id": "a7df6223",
   "metadata": {},
   "outputs": [],
   "source": [
    "def get_weights_df(model, features, col_name):\n",
    "    weights = pd.Series(model.coef_, feat).sort_values()\n",
    "    weights_df = pd.DataFrame(weights).reset_index()\n",
    "    weights_df.columns = [\"Features\", col_name]\n",
    "    weights_df[col_name].round(3)\n",
    "    return weights_df"
   ]
  },
  {
   "cell_type": "code",
   "execution_count": 202,
   "id": "85bac328",
   "metadata": {},
   "outputs": [
    {
     "name": "stdout",
     "output_type": "stream",
     "text": [
      "       Features  Lasso_Weight\n",
      "0        RH_out    -50.293976\n",
      "1          RH_8    -26.102888\n",
      "2            T1      0.000000\n",
      "3     Tdewpoint     -0.000000\n",
      "4    Visibility      0.000000\n",
      "5   Press_mm_hg     -0.000000\n",
      "6         T_out      0.000000\n",
      "7          RH_9     -0.000000\n",
      "8            T9     -0.000000\n",
      "9            T8      0.000000\n",
      "10         RH_7     -0.000000\n",
      "11          rv1     -0.000000\n",
      "12           T7     -0.000000\n",
      "13           T6      0.000000\n",
      "14         RH_5      0.000000\n",
      "15           T5     -0.000000\n",
      "16         RH_4      0.000000\n",
      "17           T4     -0.000000\n",
      "18         RH_3      0.000000\n",
      "19           T3      0.000000\n",
      "20         RH_2     -0.000000\n",
      "21           T2      0.000000\n",
      "22         RH_6     -0.000000\n",
      "23          rv2     -0.000000\n",
      "24    Windspeed      5.143148\n",
      "25         RH_1     56.944516\n"
     ]
    },
    {
     "data": {
      "text/plain": [
       "4"
      ]
     },
     "execution_count": 202,
     "metadata": {},
     "output_type": "execute_result"
    }
   ],
   "source": [
    "lasso_weights_df = get_weights_df(lasso_reg, x_train_trans, 'Lasso_Weight')\n",
    "print(lasso_weights_df)\n",
    "len(lasso_weights_df[lasso_weights_df[\"Lasso_Weight\"]!=0])"
   ]
  },
  {
   "cell_type": "code",
   "execution_count": 157,
   "id": "fd8946d5",
   "metadata": {},
   "outputs": [
    {
     "data": {
      "text/plain": [
       "99.556"
      ]
     },
     "execution_count": 157,
     "metadata": {},
     "output_type": "execute_result"
    }
   ],
   "source": [
    "y_test_pred_la = lasso_reg.predict(x_test_trans)\n",
    "y_test_pred_la\n",
    "rmse = np.sqrt(mean_squared_error(y_test, y_test_pred_la))\n",
    "round(rmse, 3)"
   ]
  },
  {
   "cell_type": "code",
   "execution_count": null,
   "id": "9ceb0bfe",
   "metadata": {},
   "outputs": [],
   "source": []
  }
 ],
 "metadata": {
  "kernelspec": {
   "display_name": "Python 3 (ipykernel)",
   "language": "python",
   "name": "python3"
  },
  "language_info": {
   "codemirror_mode": {
    "name": "ipython",
    "version": 3
   },
   "file_extension": ".py",
   "mimetype": "text/x-python",
   "name": "python",
   "nbconvert_exporter": "python",
   "pygments_lexer": "ipython3",
   "version": "3.11.5"
  }
 },
 "nbformat": 4,
 "nbformat_minor": 5
}
