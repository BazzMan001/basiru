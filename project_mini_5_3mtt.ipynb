{
 "cells": [
  {
   "cell_type": "code",
   "execution_count": 96,
   "id": "74b3a1c8",
   "metadata": {},
   "outputs": [
    {
     "data": {
      "text/html": [
       "<div>\n",
       "<style scoped>\n",
       "    .dataframe tbody tr th:only-of-type {\n",
       "        vertical-align: middle;\n",
       "    }\n",
       "\n",
       "    .dataframe tbody tr th {\n",
       "        vertical-align: top;\n",
       "    }\n",
       "\n",
       "    .dataframe thead th {\n",
       "        text-align: right;\n",
       "    }\n",
       "</style>\n",
       "<table border=\"1\" class=\"dataframe\">\n",
       "  <thead>\n",
       "    <tr style=\"text-align: right;\">\n",
       "      <th></th>\n",
       "      <th>user id</th>\n",
       "      <th>test group</th>\n",
       "      <th>converted</th>\n",
       "      <th>total ads</th>\n",
       "      <th>most ads day</th>\n",
       "      <th>most ads hour</th>\n",
       "    </tr>\n",
       "  </thead>\n",
       "  <tbody>\n",
       "    <tr>\n",
       "      <th>0</th>\n",
       "      <td>1069124</td>\n",
       "      <td>ad</td>\n",
       "      <td>False</td>\n",
       "      <td>130</td>\n",
       "      <td>Monday</td>\n",
       "      <td>20</td>\n",
       "    </tr>\n",
       "    <tr>\n",
       "      <th>1</th>\n",
       "      <td>1119715</td>\n",
       "      <td>ad</td>\n",
       "      <td>False</td>\n",
       "      <td>93</td>\n",
       "      <td>Tuesday</td>\n",
       "      <td>22</td>\n",
       "    </tr>\n",
       "    <tr>\n",
       "      <th>2</th>\n",
       "      <td>1144181</td>\n",
       "      <td>ad</td>\n",
       "      <td>False</td>\n",
       "      <td>21</td>\n",
       "      <td>Tuesday</td>\n",
       "      <td>18</td>\n",
       "    </tr>\n",
       "    <tr>\n",
       "      <th>3</th>\n",
       "      <td>1435133</td>\n",
       "      <td>ad</td>\n",
       "      <td>False</td>\n",
       "      <td>355</td>\n",
       "      <td>Tuesday</td>\n",
       "      <td>10</td>\n",
       "    </tr>\n",
       "    <tr>\n",
       "      <th>4</th>\n",
       "      <td>1015700</td>\n",
       "      <td>ad</td>\n",
       "      <td>False</td>\n",
       "      <td>276</td>\n",
       "      <td>Friday</td>\n",
       "      <td>14</td>\n",
       "    </tr>\n",
       "  </tbody>\n",
       "</table>\n",
       "</div>"
      ],
      "text/plain": [
       "   user id test group  converted  total ads most ads day  most ads hour\n",
       "0  1069124         ad      False        130       Monday             20\n",
       "1  1119715         ad      False         93      Tuesday             22\n",
       "2  1144181         ad      False         21      Tuesday             18\n",
       "3  1435133         ad      False        355      Tuesday             10\n",
       "4  1015700         ad      False        276       Friday             14"
      ]
     },
     "execution_count": 96,
     "metadata": {},
     "output_type": "execute_result"
    }
   ],
   "source": [
    "# Import the required libraries\n",
    "import pandas as pd\n",
    "from statsmodels.stats.proportion import proportions_ztest\n",
    "from statsmodels.stats.proportion import proportion_confint\n",
    "import numpy as np\n",
    "import seaborn as sns\n",
    "import matplotlib.pyplot as plt\n",
    "import random\n",
    "#Read the dataset into pandas dataframe\n",
    "df = pd.read_csv(\"C:/Users/USER/Downloads/marketing_AB.csv\").drop(\"Unnamed: 0\",axis=1)\n",
    "df.head()"
   ]
  },
  {
   "cell_type": "code",
   "execution_count": 2,
   "id": "628fbf4d",
   "metadata": {},
   "outputs": [
    {
     "name": "stdout",
     "output_type": "stream",
     "text": [
      "<class 'pandas.core.frame.DataFrame'>\n",
      "RangeIndex: 588101 entries, 0 to 588100\n",
      "Data columns (total 6 columns):\n",
      " #   Column         Non-Null Count   Dtype \n",
      "---  ------         --------------   ----- \n",
      " 0   user id        588101 non-null  int64 \n",
      " 1   test group     588101 non-null  object\n",
      " 2   converted      588101 non-null  bool  \n",
      " 3   total ads      588101 non-null  int64 \n",
      " 4   most ads day   588101 non-null  object\n",
      " 5   most ads hour  588101 non-null  int64 \n",
      "dtypes: bool(1), int64(3), object(2)\n",
      "memory usage: 23.0+ MB\n"
     ]
    }
   ],
   "source": [
    "df.info()"
   ]
  },
  {
   "cell_type": "code",
   "execution_count": 3,
   "id": "5d90768a",
   "metadata": {},
   "outputs": [
    {
     "data": {
      "text/plain": [
       "user id          0\n",
       "test group       0\n",
       "converted        0\n",
       "total ads        0\n",
       "most ads day     0\n",
       "most ads hour    0\n",
       "dtype: int64"
      ]
     },
     "execution_count": 3,
     "metadata": {},
     "output_type": "execute_result"
    }
   ],
   "source": [
    "#Check for missing values\n",
    "df.isnull().sum()"
   ]
  },
  {
   "cell_type": "code",
   "execution_count": 4,
   "id": "dc752df9",
   "metadata": {},
   "outputs": [
    {
     "data": {
      "text/plain": [
       "0"
      ]
     },
     "execution_count": 4,
     "metadata": {},
     "output_type": "execute_result"
    }
   ],
   "source": [
    "#Check for duplicates\n",
    "df.duplicated().sum()"
   ]
  },
  {
   "cell_type": "code",
   "execution_count": 5,
   "id": "f3474030",
   "metadata": {},
   "outputs": [
    {
     "data": {
      "text/plain": [
       "user id\n",
       "900000     1\n",
       "1427238    1\n",
       "1427232    1\n",
       "1427233    1\n",
       "1427234    1\n",
       "          ..\n",
       "1199964    1\n",
       "1199963    1\n",
       "1199962    1\n",
       "1199961    1\n",
       "1654483    1\n",
       "Name: converted, Length: 588101, dtype: int64"
      ]
     },
     "execution_count": 5,
     "metadata": {},
     "output_type": "execute_result"
    }
   ],
   "source": [
    "# ensure one `UserID` belongs to one `group`\n",
    "num_User_group = df[['user id','converted']].groupby('user id')['converted'].nunique()\n",
    "num_User_group.sort_values(ascending=False)"
   ]
  },
  {
   "cell_type": "code",
   "execution_count": 23,
   "id": "43a1f019",
   "metadata": {},
   "outputs": [
    {
     "data": {
      "text/html": [
       "<div>\n",
       "<style scoped>\n",
       "    .dataframe tbody tr th:only-of-type {\n",
       "        vertical-align: middle;\n",
       "    }\n",
       "\n",
       "    .dataframe tbody tr th {\n",
       "        vertical-align: top;\n",
       "    }\n",
       "\n",
       "    .dataframe thead th {\n",
       "        text-align: right;\n",
       "    }\n",
       "</style>\n",
       "<table border=\"1\" class=\"dataframe\">\n",
       "  <thead>\n",
       "    <tr style=\"text-align: right;\">\n",
       "      <th></th>\n",
       "      <th>user id</th>\n",
       "      <th>total ads</th>\n",
       "      <th>most ads hour</th>\n",
       "    </tr>\n",
       "  </thead>\n",
       "  <tbody>\n",
       "    <tr>\n",
       "      <th>count</th>\n",
       "      <td>5.881010e+05</td>\n",
       "      <td>588101.000000</td>\n",
       "      <td>588101.000000</td>\n",
       "    </tr>\n",
       "    <tr>\n",
       "      <th>mean</th>\n",
       "      <td>1.310692e+06</td>\n",
       "      <td>24.820876</td>\n",
       "      <td>14.469061</td>\n",
       "    </tr>\n",
       "    <tr>\n",
       "      <th>std</th>\n",
       "      <td>2.022260e+05</td>\n",
       "      <td>43.715181</td>\n",
       "      <td>4.834634</td>\n",
       "    </tr>\n",
       "    <tr>\n",
       "      <th>min</th>\n",
       "      <td>9.000000e+05</td>\n",
       "      <td>1.000000</td>\n",
       "      <td>0.000000</td>\n",
       "    </tr>\n",
       "    <tr>\n",
       "      <th>25%</th>\n",
       "      <td>1.143190e+06</td>\n",
       "      <td>4.000000</td>\n",
       "      <td>11.000000</td>\n",
       "    </tr>\n",
       "    <tr>\n",
       "      <th>50%</th>\n",
       "      <td>1.313725e+06</td>\n",
       "      <td>13.000000</td>\n",
       "      <td>14.000000</td>\n",
       "    </tr>\n",
       "    <tr>\n",
       "      <th>75%</th>\n",
       "      <td>1.484088e+06</td>\n",
       "      <td>27.000000</td>\n",
       "      <td>18.000000</td>\n",
       "    </tr>\n",
       "    <tr>\n",
       "      <th>max</th>\n",
       "      <td>1.654483e+06</td>\n",
       "      <td>2065.000000</td>\n",
       "      <td>23.000000</td>\n",
       "    </tr>\n",
       "  </tbody>\n",
       "</table>\n",
       "</div>"
      ],
      "text/plain": [
       "            user id      total ads  most ads hour\n",
       "count  5.881010e+05  588101.000000  588101.000000\n",
       "mean   1.310692e+06      24.820876      14.469061\n",
       "std    2.022260e+05      43.715181       4.834634\n",
       "min    9.000000e+05       1.000000       0.000000\n",
       "25%    1.143190e+06       4.000000      11.000000\n",
       "50%    1.313725e+06      13.000000      14.000000\n",
       "75%    1.484088e+06      27.000000      18.000000\n",
       "max    1.654483e+06    2065.000000      23.000000"
      ]
     },
     "execution_count": 23,
     "metadata": {},
     "output_type": "execute_result"
    }
   ],
   "source": [
    "# Obtain descriptive statistics for numerical columns\n",
    "df.select_dtypes('number').describe()"
   ]
  },
  {
   "cell_type": "code",
   "execution_count": null,
   "id": "2af97860",
   "metadata": {},
   "outputs": [],
   "source": [
    "#Exploratory Data Analysis (EDA):"
   ]
  },
  {
   "cell_type": "code",
   "execution_count": 56,
   "id": "2982eac9",
   "metadata": {},
   "outputs": [
    {
     "data": {
      "text/plain": [
       "test group\n",
       "ad     0.96\n",
       "psa    0.04\n",
       "Name: proportion, dtype: float64"
      ]
     },
     "execution_count": 56,
     "metadata": {},
     "output_type": "execute_result"
    }
   ],
   "source": [
    "#Distribution of test group\n",
    "df['test group'].value_counts(normalize=True)"
   ]
  },
  {
   "cell_type": "code",
   "execution_count": 57,
   "id": "8a369ba9",
   "metadata": {},
   "outputs": [
    {
     "data": {
      "text/plain": [
       "Text(0.5, 1.0, 'Bar Chart of Distribution of Test Group by Proportion')"
      ]
     },
     "execution_count": 57,
     "metadata": {},
     "output_type": "execute_result"
    },
    {
     "data": {
      "image/png": "[encoded data removed]",
      "text/plain": [
       "<Figure size 640x480 with 1 Axes>"
      ]
     },
     "metadata": {},
     "output_type": "display_data"
    }
   ],
   "source": [
    "#Visualizing the distribution\n",
    "df['test group'].value_counts(normalize=True).plot(kind='bar')\n",
    "plt.ylabel('proportion')\n",
    "plt.title('Bar Chart of Distribution of Test Group by Proportion')"
   ]
  },
  {
   "cell_type": "code",
   "execution_count": 27,
   "id": "c9b0b92b",
   "metadata": {},
   "outputs": [
    {
     "data": {
      "text/plain": [
       "test group\n",
       "ad     0.025547\n",
       "psa    0.017854\n",
       "Name: converted, dtype: float64"
      ]
     },
     "execution_count": 27,
     "metadata": {},
     "output_type": "execute_result"
    }
   ],
   "source": [
    "#Conversion Rates per Group\n",
    "df.groupby('test group')['converted'].mean()"
   ]
  },
  {
   "cell_type": "code",
   "execution_count": 58,
   "id": "c61e74ab",
   "metadata": {},
   "outputs": [
    {
     "data": {
      "image/png": "[encoded data removed]",
      "text/plain": [
       "<Figure size 640x480 with 1 Axes>"
      ]
     },
     "metadata": {},
     "output_type": "display_data"
    }
   ],
   "source": [
    "#Visualizing the distribution\n",
    "df.groupby('test group')['converted'].mean().plot(kind ='bar')\n",
    "plt.ylabel('converted')\n",
    "plt.title('Bar Chart of Conversion Rates Per Group')\n",
    "plt.show()"
   ]
  },
  {
   "cell_type": "code",
   "execution_count": 44,
   "id": "8b4fcdb6",
   "metadata": {},
   "outputs": [
    {
     "data": {
      "text/plain": [
       "26742     2065\n",
       "47005     1778\n",
       "7187      1680\n",
       "506       1632\n",
       "15334     1491\n",
       "          ... \n",
       "443546       1\n",
       "443543       1\n",
       "443542       1\n",
       "443541       1\n",
       "588100       1\n",
       "Name: total ads, Length: 588101, dtype: int64"
      ]
     },
     "execution_count": 44,
     "metadata": {},
     "output_type": "execute_result"
    }
   ],
   "source": [
    "# Distribution of total ads\n",
    "df['total ads'].sort_values(ascending = False)"
   ]
  },
  {
   "cell_type": "code",
   "execution_count": 55,
   "id": "153b00a6",
   "metadata": {},
   "outputs": [
    {
     "data": {
      "image/png": "[encoded data removed]",
      "text/plain": [
       "<Figure size 640x480 with 1 Axes>"
      ]
     },
     "metadata": {},
     "output_type": "display_data"
    }
   ],
   "source": [
    "#Visualizing the distribution\n",
    "df['total ads'].sort_values(ascending = True).plot(kind='hist')\n",
    "plt.xlabel('total ads')\n",
    "plt.title('Histogram of Distribution of Total Ads')\n",
    "plt.show()"
   ]
  },
  {
   "cell_type": "code",
   "execution_count": 40,
   "id": "2b2ac6f0",
   "metadata": {},
   "outputs": [
    {
     "data": {
      "text/plain": [
       "total ads\n",
       "1       0.001572\n",
       "2       0.002360\n",
       "3       0.002826\n",
       "4       0.003586\n",
       "5       0.003447\n",
       "          ...   \n",
       "1491    1.000000\n",
       "1632    0.000000\n",
       "1680    1.000000\n",
       "1778    1.000000\n",
       "2065    0.000000\n",
       "Name: converted, Length: 807, dtype: float64"
      ]
     },
     "execution_count": 40,
     "metadata": {},
     "output_type": "execute_result"
    }
   ],
   "source": [
    "#Conversion Rates by total ads\n",
    "df.groupby('total ads')['converted'].mean()"
   ]
  },
  {
   "cell_type": "code",
   "execution_count": 54,
   "id": "024c76e8",
   "metadata": {},
   "outputs": [
    {
     "data": {
      "text/plain": [
       "Text(0.5, 1.0, 'Histogram of Conversion Rates by Total Ads')"
      ]
     },
     "execution_count": 54,
     "metadata": {},
     "output_type": "execute_result"
    },
    {
     "data": {
      "image/png": "[encoded data removed]",
      "text/plain": [
       "<Figure size 640x480 with 1 Axes>"
      ]
     },
     "metadata": {},
     "output_type": "display_data"
    }
   ],
   "source": [
    "# Visualizing the distribution\n",
    "df.groupby('total ads')['converted'].mean().plot(kind='hist')\n",
    "plt.xlabel('converted')\n",
    "plt.title('Histogram of Conversion Rates by Total Ads')"
   ]
  },
  {
   "cell_type": "code",
   "execution_count": 49,
   "id": "0c6c700f",
   "metadata": {},
   "outputs": [
    {
     "data": {
      "text/plain": [
       "most ads day\n",
       "Friday       0.022212\n",
       "Monday       0.032812\n",
       "Saturday     0.021051\n",
       "Sunday       0.024476\n",
       "Thursday     0.021571\n",
       "Tuesday      0.029840\n",
       "Wednesday    0.024942\n",
       "Name: converted, dtype: float64"
      ]
     },
     "execution_count": 49,
     "metadata": {},
     "output_type": "execute_result"
    }
   ],
   "source": [
    "#most ads day Analysis:\n",
    "df.groupby('most ads day')['converted'].mean()"
   ]
  },
  {
   "cell_type": "code",
   "execution_count": 50,
   "id": "796e0a1d",
   "metadata": {},
   "outputs": [
    {
     "data": {
      "text/plain": [
       "<Axes: ylabel='converted'>"
      ]
     },
     "execution_count": 50,
     "metadata": {},
     "output_type": "execute_result"
    },
    {
     "data": {
      "image/png": "[encoded data removed]",
      "text/plain": [
       "<Figure size 640x480 with 1 Axes>"
      ]
     },
     "metadata": {},
     "output_type": "display_data"
    }
   ],
   "source": [
    "# Visualizing the distribution with pie chart\n",
    "df.groupby('most ads day')['converted'].mean().plot(kind='pie')"
   ]
  },
  {
   "cell_type": "code",
   "execution_count": 53,
   "id": "ae84de11",
   "metadata": {},
   "outputs": [
    {
     "data": {
      "text/plain": [
       "<Axes: title={'center': 'Line Plot of Conversion Rates by most Ads Day'}, xlabel='most ads day', ylabel='converted'>"
      ]
     },
     "execution_count": 53,
     "metadata": {},
     "output_type": "execute_result"
    },
    {
     "data": {
      "image/png": "[encoded data removed]",
      "text/plain": [
       "<Figure size 640x480 with 1 Axes>"
      ]
     },
     "metadata": {},
     "output_type": "display_data"
    }
   ],
   "source": [
    "# Visualizing the distribution with line plot\n",
    "plt.ylabel('converted')\n",
    "plt.title('Line Plot of Conversion Rates by most Ads Day')\n",
    "df.groupby('most ads day')['converted'].mean().plot(kind='line')"
   ]
  },
  {
   "cell_type": "code",
   "execution_count": 51,
   "id": "be3f4d45",
   "metadata": {},
   "outputs": [
    {
     "data": {
      "text/plain": [
       "most ads hour\n",
       "0     0.018425\n",
       "1     0.012911\n",
       "2     0.007313\n",
       "3     0.010452\n",
       "4     0.015235\n",
       "5     0.020915\n",
       "6     0.022244\n",
       "7     0.018111\n",
       "8     0.019516\n",
       "9     0.019191\n",
       "10    0.021521\n",
       "11    0.022116\n",
       "12    0.023828\n",
       "13    0.024677\n",
       "14    0.028063\n",
       "15    0.029653\n",
       "16    0.030772\n",
       "17    0.028210\n",
       "18    0.027380\n",
       "19    0.026720\n",
       "20    0.029803\n",
       "21    0.028923\n",
       "22    0.026105\n",
       "23    0.022662\n",
       "Name: converted, dtype: float64"
      ]
     },
     "execution_count": 51,
     "metadata": {},
     "output_type": "execute_result"
    }
   ],
   "source": [
    "#most ads hour Analysis:\n",
    "df.groupby('most ads hour')['converted'].mean()"
   ]
  },
  {
   "cell_type": "code",
   "execution_count": 59,
   "id": "4623cb28",
   "metadata": {},
   "outputs": [
    {
     "data": {
      "text/plain": [
       "<Axes: ylabel='converted'>"
      ]
     },
     "execution_count": 59,
     "metadata": {},
     "output_type": "execute_result"
    },
    {
     "data": {
      "image/png": "[encoded data removed]",
      "text/plain": [
       "<Figure size 640x480 with 1 Axes>"
      ]
     },
     "metadata": {},
     "output_type": "display_data"
    }
   ],
   "source": [
    "df.groupby('most ads hour')['converted'].mean().plot(kind='pie')"
   ]
  },
  {
   "cell_type": "code",
   "execution_count": 60,
   "id": "3d7fa8ac",
   "metadata": {},
   "outputs": [
    {
     "data": {
      "text/plain": [
       "<Axes: xlabel='most ads hour'>"
      ]
     },
     "execution_count": 60,
     "metadata": {},
     "output_type": "execute_result"
    },
    {
     "data": {
      "image/png": "[encoded data removed]",
      "text/plain": [
       "<Figure size 640x480 with 1 Axes>"
      ]
     },
     "metadata": {},
     "output_type": "display_data"
    }
   ],
   "source": [
    "df.groupby('most ads hour')['converted'].mean().plot(kind='line')"
   ]
  },
  {
   "cell_type": "code",
   "execution_count": null,
   "id": "6f89d77b",
   "metadata": {},
   "outputs": [],
   "source": [
    "# Objective (i): Analyze Experimental and Control Groups (Were Ads Successful?) and \n",
    "#Objective (iii) Assess Statistical Significance using A/B Testing Techniques \n",
    "\n",
    "\n",
    "#Hypothesis Formulation:\n",
    "\n",
    "#Null Hypothesis (H_0): There is no significant difference in conversion rates between\n",
    "#the 'ad' group and the 'psa' group. (i.e., Conversion Rate_ad = Conversion Rate_psa)\n",
    "\n",
    "#Alternative Hypothesis (H_1): There is a significant difference in conversion\n",
    "#rates between the 'ad' group and the 'psa' group. (i.e., Conversion Rate_ad \n",
    "#neq Conversion Rate_psa)\n",
    "\n"
   ]
  },
  {
   "cell_type": "code",
   "execution_count": null,
   "id": "bb5be113",
   "metadata": {},
   "outputs": [],
   "source": [
    "#Statistical Test:\n",
    "\n",
    "#Since we are comparing proportions (conversion rates) between two independent groups, a Two-Sample Z-test for Proportions \n",
    "#(or Chi-Squared test for independence) is appropriate."
   ]
  },
  {
   "cell_type": "code",
   "execution_count": null,
   "id": "b923359f",
   "metadata": {},
   "outputs": [],
   "source": []
  },
  {
   "cell_type": "code",
   "execution_count": 61,
   "id": "49181cd0",
   "metadata": {},
   "outputs": [
    {
     "data": {
      "text/html": [
       "<div>\n",
       "<style scoped>\n",
       "    .dataframe tbody tr th:only-of-type {\n",
       "        vertical-align: middle;\n",
       "    }\n",
       "\n",
       "    .dataframe tbody tr th {\n",
       "        vertical-align: top;\n",
       "    }\n",
       "\n",
       "    .dataframe thead th {\n",
       "        text-align: right;\n",
       "    }\n",
       "</style>\n",
       "<table border=\"1\" class=\"dataframe\">\n",
       "  <thead>\n",
       "    <tr style=\"text-align: right;\">\n",
       "      <th></th>\n",
       "      <th>user id</th>\n",
       "      <th>test group</th>\n",
       "      <th>converted</th>\n",
       "      <th>total ads</th>\n",
       "      <th>most ads day</th>\n",
       "      <th>most ads hour</th>\n",
       "    </tr>\n",
       "  </thead>\n",
       "  <tbody>\n",
       "    <tr>\n",
       "      <th>0</th>\n",
       "      <td>1475893</td>\n",
       "      <td>ad</td>\n",
       "      <td>False</td>\n",
       "      <td>19</td>\n",
       "      <td>Tuesday</td>\n",
       "      <td>13</td>\n",
       "    </tr>\n",
       "    <tr>\n",
       "      <th>1</th>\n",
       "      <td>1220116</td>\n",
       "      <td>ad</td>\n",
       "      <td>False</td>\n",
       "      <td>22</td>\n",
       "      <td>Wednesday</td>\n",
       "      <td>18</td>\n",
       "    </tr>\n",
       "    <tr>\n",
       "      <th>2</th>\n",
       "      <td>1423151</td>\n",
       "      <td>ad</td>\n",
       "      <td>False</td>\n",
       "      <td>1</td>\n",
       "      <td>Friday</td>\n",
       "      <td>12</td>\n",
       "    </tr>\n",
       "    <tr>\n",
       "      <th>3</th>\n",
       "      <td>1502270</td>\n",
       "      <td>ad</td>\n",
       "      <td>False</td>\n",
       "      <td>1</td>\n",
       "      <td>Sunday</td>\n",
       "      <td>11</td>\n",
       "    </tr>\n",
       "    <tr>\n",
       "      <th>4</th>\n",
       "      <td>1319803</td>\n",
       "      <td>ad</td>\n",
       "      <td>False</td>\n",
       "      <td>10</td>\n",
       "      <td>Saturday</td>\n",
       "      <td>14</td>\n",
       "    </tr>\n",
       "    <tr>\n",
       "      <th>...</th>\n",
       "      <td>...</td>\n",
       "      <td>...</td>\n",
       "      <td>...</td>\n",
       "      <td>...</td>\n",
       "      <td>...</td>\n",
       "      <td>...</td>\n",
       "    </tr>\n",
       "    <tr>\n",
       "      <th>588096</th>\n",
       "      <td>1152194</td>\n",
       "      <td>ad</td>\n",
       "      <td>False</td>\n",
       "      <td>6</td>\n",
       "      <td>Thursday</td>\n",
       "      <td>9</td>\n",
       "    </tr>\n",
       "    <tr>\n",
       "      <th>588097</th>\n",
       "      <td>1546636</td>\n",
       "      <td>ad</td>\n",
       "      <td>False</td>\n",
       "      <td>8</td>\n",
       "      <td>Saturday</td>\n",
       "      <td>20</td>\n",
       "    </tr>\n",
       "    <tr>\n",
       "      <th>588098</th>\n",
       "      <td>1486607</td>\n",
       "      <td>ad</td>\n",
       "      <td>False</td>\n",
       "      <td>131</td>\n",
       "      <td>Tuesday</td>\n",
       "      <td>22</td>\n",
       "    </tr>\n",
       "    <tr>\n",
       "      <th>588099</th>\n",
       "      <td>1652857</td>\n",
       "      <td>ad</td>\n",
       "      <td>False</td>\n",
       "      <td>2</td>\n",
       "      <td>Tuesday</td>\n",
       "      <td>15</td>\n",
       "    </tr>\n",
       "    <tr>\n",
       "      <th>588100</th>\n",
       "      <td>1650176</td>\n",
       "      <td>ad</td>\n",
       "      <td>False</td>\n",
       "      <td>8</td>\n",
       "      <td>Thursday</td>\n",
       "      <td>13</td>\n",
       "    </tr>\n",
       "  </tbody>\n",
       "</table>\n",
       "<p>588101 rows × 6 columns</p>\n",
       "</div>"
      ],
      "text/plain": [
       "        user id test group  converted  total ads most ads day  most ads hour\n",
       "0       1475893         ad      False         19      Tuesday             13\n",
       "1       1220116         ad      False         22    Wednesday             18\n",
       "2       1423151         ad      False          1       Friday             12\n",
       "3       1502270         ad      False          1       Sunday             11\n",
       "4       1319803         ad      False         10     Saturday             14\n",
       "...         ...        ...        ...        ...          ...            ...\n",
       "588096  1152194         ad      False          6     Thursday              9\n",
       "588097  1546636         ad      False          8     Saturday             20\n",
       "588098  1486607         ad      False        131      Tuesday             22\n",
       "588099  1652857         ad      False          2      Tuesday             15\n",
       "588100  1650176         ad      False          8     Thursday             13\n",
       "\n",
       "[588101 rows x 6 columns]"
      ]
     },
     "execution_count": 61,
     "metadata": {},
     "output_type": "execute_result"
    }
   ],
   "source": [
    "#let us perform randomization to guard against confounding variables,\n",
    "#so that they might be evenly distributed between the two groups.\n",
    "idx = df.index.to_list()\n",
    "np.random.shuffle(idx)\n",
    "df1 = df.loc[idx].reset_index(drop=True)\n",
    "df1"
   ]
  },
  {
   "cell_type": "code",
   "execution_count": 10,
   "id": "6143613c",
   "metadata": {},
   "outputs": [
    {
     "data": {
      "text/html": [
       "<div>\n",
       "<style scoped>\n",
       "    .dataframe tbody tr th:only-of-type {\n",
       "        vertical-align: middle;\n",
       "    }\n",
       "\n",
       "    .dataframe tbody tr th {\n",
       "        vertical-align: top;\n",
       "    }\n",
       "\n",
       "    .dataframe thead th {\n",
       "        text-align: right;\n",
       "    }\n",
       "</style>\n",
       "<table border=\"1\" class=\"dataframe\">\n",
       "  <thead>\n",
       "    <tr style=\"text-align: right;\">\n",
       "      <th></th>\n",
       "      <th>user id</th>\n",
       "      <th>test group</th>\n",
       "      <th>converted</th>\n",
       "      <th>total ads</th>\n",
       "      <th>most ads day</th>\n",
       "      <th>most ads hour</th>\n",
       "    </tr>\n",
       "  </thead>\n",
       "  <tbody>\n",
       "    <tr>\n",
       "      <th>0</th>\n",
       "      <td>1069124</td>\n",
       "      <td>ad</td>\n",
       "      <td>False</td>\n",
       "      <td>130</td>\n",
       "      <td>Monday</td>\n",
       "      <td>20</td>\n",
       "    </tr>\n",
       "    <tr>\n",
       "      <th>1</th>\n",
       "      <td>1119715</td>\n",
       "      <td>ad</td>\n",
       "      <td>False</td>\n",
       "      <td>93</td>\n",
       "      <td>Tuesday</td>\n",
       "      <td>22</td>\n",
       "    </tr>\n",
       "    <tr>\n",
       "      <th>2</th>\n",
       "      <td>1144181</td>\n",
       "      <td>ad</td>\n",
       "      <td>False</td>\n",
       "      <td>21</td>\n",
       "      <td>Tuesday</td>\n",
       "      <td>18</td>\n",
       "    </tr>\n",
       "    <tr>\n",
       "      <th>3</th>\n",
       "      <td>1435133</td>\n",
       "      <td>ad</td>\n",
       "      <td>False</td>\n",
       "      <td>355</td>\n",
       "      <td>Tuesday</td>\n",
       "      <td>10</td>\n",
       "    </tr>\n",
       "    <tr>\n",
       "      <th>4</th>\n",
       "      <td>1015700</td>\n",
       "      <td>ad</td>\n",
       "      <td>False</td>\n",
       "      <td>276</td>\n",
       "      <td>Friday</td>\n",
       "      <td>14</td>\n",
       "    </tr>\n",
       "    <tr>\n",
       "      <th>...</th>\n",
       "      <td>...</td>\n",
       "      <td>...</td>\n",
       "      <td>...</td>\n",
       "      <td>...</td>\n",
       "      <td>...</td>\n",
       "      <td>...</td>\n",
       "    </tr>\n",
       "    <tr>\n",
       "      <th>588096</th>\n",
       "      <td>1278437</td>\n",
       "      <td>ad</td>\n",
       "      <td>False</td>\n",
       "      <td>1</td>\n",
       "      <td>Tuesday</td>\n",
       "      <td>23</td>\n",
       "    </tr>\n",
       "    <tr>\n",
       "      <th>588097</th>\n",
       "      <td>1327975</td>\n",
       "      <td>ad</td>\n",
       "      <td>False</td>\n",
       "      <td>1</td>\n",
       "      <td>Tuesday</td>\n",
       "      <td>23</td>\n",
       "    </tr>\n",
       "    <tr>\n",
       "      <th>588098</th>\n",
       "      <td>1038442</td>\n",
       "      <td>ad</td>\n",
       "      <td>False</td>\n",
       "      <td>3</td>\n",
       "      <td>Tuesday</td>\n",
       "      <td>23</td>\n",
       "    </tr>\n",
       "    <tr>\n",
       "      <th>588099</th>\n",
       "      <td>1496395</td>\n",
       "      <td>ad</td>\n",
       "      <td>False</td>\n",
       "      <td>1</td>\n",
       "      <td>Tuesday</td>\n",
       "      <td>23</td>\n",
       "    </tr>\n",
       "    <tr>\n",
       "      <th>588100</th>\n",
       "      <td>1237779</td>\n",
       "      <td>ad</td>\n",
       "      <td>False</td>\n",
       "      <td>1</td>\n",
       "      <td>Tuesday</td>\n",
       "      <td>23</td>\n",
       "    </tr>\n",
       "  </tbody>\n",
       "</table>\n",
       "<p>564577 rows × 6 columns</p>\n",
       "</div>"
      ],
      "text/plain": [
       "        user id test group  converted  total ads most ads day  most ads hour\n",
       "0       1069124         ad      False        130       Monday             20\n",
       "1       1119715         ad      False         93      Tuesday             22\n",
       "2       1144181         ad      False         21      Tuesday             18\n",
       "3       1435133         ad      False        355      Tuesday             10\n",
       "4       1015700         ad      False        276       Friday             14\n",
       "...         ...        ...        ...        ...          ...            ...\n",
       "588096  1278437         ad      False          1      Tuesday             23\n",
       "588097  1327975         ad      False          1      Tuesday             23\n",
       "588098  1038442         ad      False          3      Tuesday             23\n",
       "588099  1496395         ad      False          1      Tuesday             23\n",
       "588100  1237779         ad      False          1      Tuesday             23\n",
       "\n",
       "[564577 rows x 6 columns]"
      ]
     },
     "execution_count": 10,
     "metadata": {},
     "output_type": "execute_result"
    }
   ],
   "source": [
    "#Obtain  treatment group\n",
    "treatment_group = df[df['test group'] == 'ad']\n",
    "treatment_group"
   ]
  },
  {
   "cell_type": "code",
   "execution_count": 84,
   "id": "f8d59530",
   "metadata": {},
   "outputs": [
    {
     "data": {
      "text/plain": [
       "0.025546559636683747"
      ]
     },
     "execution_count": 84,
     "metadata": {},
     "output_type": "execute_result"
    }
   ],
   "source": [
    "##Calculate Conversion Rate for treatment group\n",
    "conversion_rate_ad = df[df['test group'] == 'ad']['converted'].mean()\n",
    "conversion_rate_ad"
   ]
  },
  {
   "cell_type": "code",
   "execution_count": 70,
   "id": "2c312415",
   "metadata": {},
   "outputs": [
    {
     "data": {
      "text/plain": [
       "564577"
      ]
     },
     "execution_count": 70,
     "metadata": {},
     "output_type": "execute_result"
    }
   ],
   "source": [
    "# number of users in treatment group\n",
    "n_ad = df[df['test group'] == 'ad'].shape[0]\n",
    "n_ad"
   ]
  },
  {
   "cell_type": "code",
   "execution_count": 12,
   "id": "c35b0b24",
   "metadata": {},
   "outputs": [
    {
     "data": {
      "text/html": [
       "<div>\n",
       "<style scoped>\n",
       "    .dataframe tbody tr th:only-of-type {\n",
       "        vertical-align: middle;\n",
       "    }\n",
       "\n",
       "    .dataframe tbody tr th {\n",
       "        vertical-align: top;\n",
       "    }\n",
       "\n",
       "    .dataframe thead th {\n",
       "        text-align: right;\n",
       "    }\n",
       "</style>\n",
       "<table border=\"1\" class=\"dataframe\">\n",
       "  <thead>\n",
       "    <tr style=\"text-align: right;\">\n",
       "      <th></th>\n",
       "      <th>user id</th>\n",
       "      <th>test group</th>\n",
       "      <th>converted</th>\n",
       "      <th>total ads</th>\n",
       "      <th>most ads day</th>\n",
       "      <th>most ads hour</th>\n",
       "    </tr>\n",
       "  </thead>\n",
       "  <tbody>\n",
       "    <tr>\n",
       "      <th>18</th>\n",
       "      <td>900681</td>\n",
       "      <td>psa</td>\n",
       "      <td>False</td>\n",
       "      <td>248</td>\n",
       "      <td>Saturday</td>\n",
       "      <td>19</td>\n",
       "    </tr>\n",
       "    <tr>\n",
       "      <th>38</th>\n",
       "      <td>905704</td>\n",
       "      <td>psa</td>\n",
       "      <td>False</td>\n",
       "      <td>27</td>\n",
       "      <td>Thursday</td>\n",
       "      <td>8</td>\n",
       "    </tr>\n",
       "    <tr>\n",
       "      <th>68</th>\n",
       "      <td>904595</td>\n",
       "      <td>psa</td>\n",
       "      <td>False</td>\n",
       "      <td>13</td>\n",
       "      <td>Tuesday</td>\n",
       "      <td>19</td>\n",
       "    </tr>\n",
       "    <tr>\n",
       "      <th>140</th>\n",
       "      <td>901904</td>\n",
       "      <td>psa</td>\n",
       "      <td>False</td>\n",
       "      <td>32</td>\n",
       "      <td>Wednesday</td>\n",
       "      <td>19</td>\n",
       "    </tr>\n",
       "    <tr>\n",
       "      <th>157</th>\n",
       "      <td>902234</td>\n",
       "      <td>psa</td>\n",
       "      <td>False</td>\n",
       "      <td>105</td>\n",
       "      <td>Tuesday</td>\n",
       "      <td>19</td>\n",
       "    </tr>\n",
       "    <tr>\n",
       "      <th>...</th>\n",
       "      <td>...</td>\n",
       "      <td>...</td>\n",
       "      <td>...</td>\n",
       "      <td>...</td>\n",
       "      <td>...</td>\n",
       "      <td>...</td>\n",
       "    </tr>\n",
       "    <tr>\n",
       "      <th>588052</th>\n",
       "      <td>900959</td>\n",
       "      <td>psa</td>\n",
       "      <td>False</td>\n",
       "      <td>16</td>\n",
       "      <td>Tuesday</td>\n",
       "      <td>22</td>\n",
       "    </tr>\n",
       "    <tr>\n",
       "      <th>588063</th>\n",
       "      <td>902828</td>\n",
       "      <td>psa</td>\n",
       "      <td>False</td>\n",
       "      <td>3</td>\n",
       "      <td>Tuesday</td>\n",
       "      <td>22</td>\n",
       "    </tr>\n",
       "    <tr>\n",
       "      <th>588066</th>\n",
       "      <td>914578</td>\n",
       "      <td>psa</td>\n",
       "      <td>False</td>\n",
       "      <td>1</td>\n",
       "      <td>Tuesday</td>\n",
       "      <td>22</td>\n",
       "    </tr>\n",
       "    <tr>\n",
       "      <th>588069</th>\n",
       "      <td>909042</td>\n",
       "      <td>psa</td>\n",
       "      <td>False</td>\n",
       "      <td>6</td>\n",
       "      <td>Tuesday</td>\n",
       "      <td>22</td>\n",
       "    </tr>\n",
       "    <tr>\n",
       "      <th>588081</th>\n",
       "      <td>904721</td>\n",
       "      <td>psa</td>\n",
       "      <td>False</td>\n",
       "      <td>16</td>\n",
       "      <td>Tuesday</td>\n",
       "      <td>23</td>\n",
       "    </tr>\n",
       "  </tbody>\n",
       "</table>\n",
       "<p>23524 rows × 6 columns</p>\n",
       "</div>"
      ],
      "text/plain": [
       "        user id test group  converted  total ads most ads day  most ads hour\n",
       "18       900681        psa      False        248     Saturday             19\n",
       "38       905704        psa      False         27     Thursday              8\n",
       "68       904595        psa      False         13      Tuesday             19\n",
       "140      901904        psa      False         32    Wednesday             19\n",
       "157      902234        psa      False        105      Tuesday             19\n",
       "...         ...        ...        ...        ...          ...            ...\n",
       "588052   900959        psa      False         16      Tuesday             22\n",
       "588063   902828        psa      False          3      Tuesday             22\n",
       "588066   914578        psa      False          1      Tuesday             22\n",
       "588069   909042        psa      False          6      Tuesday             22\n",
       "588081   904721        psa      False         16      Tuesday             23\n",
       "\n",
       "[23524 rows x 6 columns]"
      ]
     },
     "execution_count": 12,
     "metadata": {},
     "output_type": "execute_result"
    }
   ],
   "source": [
    "#Obtain Control group\n",
    "control_group = df[df['test group'] == 'psa']\n",
    "control_group"
   ]
  },
  {
   "cell_type": "code",
   "execution_count": 83,
   "id": "4599ccfc",
   "metadata": {},
   "outputs": [
    {
     "data": {
      "text/plain": [
       "0.01785410644448223"
      ]
     },
     "execution_count": 83,
     "metadata": {},
     "output_type": "execute_result"
    }
   ],
   "source": [
    "#Calculate Conversion Rate for control group\n",
    "conversion_rate_psa = df[df['test group'] == 'psa']['converted'].mean()\n",
    "conversion_rate_psa\n"
   ]
  },
  {
   "cell_type": "code",
   "execution_count": 71,
   "id": "b14c4bb0",
   "metadata": {},
   "outputs": [
    {
     "data": {
      "text/plain": [
       "23524"
      ]
     },
     "execution_count": 71,
     "metadata": {},
     "output_type": "execute_result"
    }
   ],
   "source": [
    "# number of users in control group\n",
    "n_psa = df[df['test group'] == 'psa'].shape[0]\n",
    "n_psa"
   ]
  },
  {
   "cell_type": "code",
   "execution_count": 72,
   "id": "9bd108ac",
   "metadata": {},
   "outputs": [
    {
     "data": {
      "text/plain": [
       "14423"
      ]
     },
     "execution_count": 72,
     "metadata": {},
     "output_type": "execute_result"
    }
   ],
   "source": [
    "df[df['test group'] == 'ad']['converted'].sum()"
   ]
  },
  {
   "cell_type": "code",
   "execution_count": 77,
   "id": "350af9ee",
   "metadata": {},
   "outputs": [
    {
     "data": {
      "text/plain": [
       "420"
      ]
     },
     "execution_count": 77,
     "metadata": {},
     "output_type": "execute_result"
    }
   ],
   "source": [
    "df[df['test group'] == 'psa']['converted'].sum()"
   ]
  },
  {
   "cell_type": "code",
   "execution_count": 80,
   "id": "d1ab4677",
   "metadata": {},
   "outputs": [
    {
     "data": {
      "text/plain": [
       "(7.3700781265454145, 1.7052807161559727e-13)"
      ]
     },
     "execution_count": 80,
     "metadata": {},
     "output_type": "execute_result"
    }
   ],
   "source": [
    "#Perform Z-test for Proportions:\n",
    "#Many statistical libraries (like statsmodels in Python) have functions for this.\n",
    "\n",
    "#W'll need the number of conversions and the total number of users in each group.\n",
    "count_ad = df[df['test group'] == 'ad']['converted'].sum()\n",
    "count_psa = df[df['test group'] == 'psa']['converted'].sum()\n",
    "\n",
    "stat, p_value = proportions_ztest([count_ad, count_psa], [n_ad, n_psa])\n",
    "stat, p_value"
   ]
  },
  {
   "cell_type": "code",
   "execution_count": 86,
   "id": "df8d2c13",
   "metadata": {},
   "outputs": [],
   "source": [
    "# Calculate observed conversion rates\n",
    "conversion_rate_ad = count_ad / n_ad\n",
    "conversion_rate_psa = count_psa / n_psa"
   ]
  },
  {
   "cell_type": "code",
   "execution_count": 87,
   "id": "09a79b70",
   "metadata": {},
   "outputs": [
    {
     "name": "stdout",
     "output_type": "stream",
     "text": [
      "--- A/B Test Results ---\n",
      "Observed Conversion Rate (Ad Group): 0.0255\n",
      "Observed Conversion Rate (PSA Group): 0.0179\n",
      "Z-statistic: 7.3701\n",
      "P-value: 0.000000000000171\n",
      "Significance Level (alpha): 0.05\n",
      "------------------------------\n"
     ]
    }
   ],
   "source": [
    "# --- Set Significance Level ---\n",
    "alpha = 0.05\n",
    "\n",
    "# --- 2. Make the Decision (Python Logic) ---\n",
    "\n",
    "print(f\"--- A/B Test Results ---\")\n",
    "print(f\"Observed Conversion Rate (Ad Group): {conversion_rate_ad:.4f}\")\n",
    "print(f\"Observed Conversion Rate (PSA Group): {conversion_rate_psa:.4f}\")\n",
    "print(f\"Z-statistic: {stat:.4f}\")\n",
    "print(f\"P-value: {p_value:.15f}\") # Print with more precision for very small p-values\n",
    "print(f\"Significance Level (alpha): {alpha}\")\n",
    "print(\"-\" * 30)"
   ]
  },
  {
   "cell_type": "code",
   "execution_count": 90,
   "id": "30e09bf2",
   "metadata": {},
   "outputs": [
    {
     "name": "stdout",
     "output_type": "stream",
     "text": [
      "Decision: Reject the Null Hypothesis (H0)\n",
      "Conclusion: There is statistically significant evidence that the 'ad' campaign led to a *higher* conversion rate compared to the 'psa' (control) group. The ads were successful in increasing sales.\n"
     ]
    }
   ],
   "source": [
    "decision = \"\"\n",
    "conclusion = \"\"\n",
    "\n",
    "if p_value < alpha:\n",
    "    decision = \"Reject the Null Hypothesis (H0)\"\n",
    "    if conversion_rate_ad > conversion_rate_psa:\n",
    "        conclusion = (\n",
    "            \"There is statistically significant evidence that the 'ad' campaign \"\n",
    "            \"led to a *higher* conversion rate compared to the 'psa' (control) group. \"\n",
    "            \"The ads were successful in increasing sales.\"\n",
    "        )\n",
    "    \n",
    "    elif conversion_rate_ad < conversion_rate_psa:\n",
    "        conclusion = (\n",
    "            \"There is statistically significant evidence that the 'ad' campaign \"\n",
    "            \"led to a *lower* conversion rate compared to the 'psa' (control) group. \"\n",
    "            \"The ads were detrimental and decreased sales.\"\n",
    "        )\n",
    "        \n",
    "    else: # This case is highly unlikely with floating point numbers, but for completeness\n",
    "        conclusion = (\n",
    "            \"There is statistically significant evidence that the 'ad' campaign \"\n",
    "            \"resulted in a different conversion rate compared to the 'psa' group, \"\n",
    "            \"but the specific direction of the difference needs further examination \"\n",
    "            \"(though unlikely to be exactly equal if p-value is significant).\"\n",
    "        ) \n",
    "        \n",
    "else:\n",
    "    decision = \"Fail to Reject the Null Hypothesis (H0)\"\n",
    "    conclusion = (\n",
    "        \"There is no statistically significant evidence to conclude that the \"\n",
    "        \"'ad' campaign led to a different conversion rate compared to the \"\n",
    "        \"'psa' (control) group. The observed difference could be due to random chance.\"\n",
    "    )\n",
    "\n",
    "print(f\"Decision: {decision}\")\n",
    "print(f\"Conclusion: {conclusion}\")       \n",
    "        \n"
   ]
  },
  {
   "cell_type": "code",
   "execution_count": null,
   "id": "425dbca0",
   "metadata": {},
   "outputs": [],
   "source": []
  },
  {
   "cell_type": "code",
   "execution_count": 94,
   "id": "3abeffd6",
   "metadata": {},
   "outputs": [
    {
     "name": "stdout",
     "output_type": "stream",
     "text": [
      "\n",
      "95% CI for 'ad' group conversion rate: (0.0251, 0.0260)\n",
      "95% CI for 'psa' group conversion rate: (0.0162, 0.0196)\n"
     ]
    }
   ],
   "source": [
    "# 95% Confidence Interval for Ad Group Conversion Rate\n",
    "lower_ad, upper_ad = proportion_confint(count_ad, n_ad, alpha=alpha, method='wilson')\n",
    "print(f\"\\n95% CI for 'ad' group conversion rate: ({lower_ad:.4f}, {upper_ad:.4f})\")\n",
    "\n",
    "# 95% Confidence Interval for PSA Group Conversion Rate\n",
    "lower_psa, upper_psa = proportion_confint(count_psa, n_psa, alpha=alpha, method='wilson')\n",
    "print(f\"95% CI for 'psa' group conversion rate: ({lower_psa:.4f}, {upper_psa:.4f})\")"
   ]
  },
  {
   "cell_type": "code",
   "execution_count": null,
   "id": "5a2afbb0",
   "metadata": {},
   "outputs": [],
   "source": []
  },
  {
   "cell_type": "code",
   "execution_count": 98,
   "id": "68385936",
   "metadata": {},
   "outputs": [],
   "source": [
    "# Visualizing the difference \n",
    "\n",
    "groups = ['Ad Group', 'PSA Group']\n",
    "conversion_rates = [conversion_rate_ad, conversion_rate_psa]\n",
    "ci_lower = [lower_ad, lower_psa]\n",
    "ci_upper = [upper_ad, upper_psa]\n",
    "\n",
    "# Calculate error bars for plotting\n",
    "errors = [(conversion_rates[i] - ci_lower[i], ci_upper[i] - conversion_rates[i]) for i in range(len(groups))]\n",
    "# Reshape for matplotlib errorbar (lower errors, upper errors)\n",
    "yerr = [[err[0] for err in errors], [err[1] for err in errors]]\n"
   ]
  },
  {
   "cell_type": "code",
   "execution_count": 99,
   "id": "98580d1c",
   "metadata": {},
   "outputs": [
    {
     "data": {
      "image/png": "[encoded data removed]",
      "text/plain": [
       "<Figure size 800x600 with 1 Axes>"
      ]
     },
     "metadata": {},
     "output_type": "display_data"
    }
   ],
   "source": [
    "plt.figure(figsize=(8, 6))\n",
    "sns.barplot(x=groups, y=conversion_rates, palette='viridis')\n",
    "plt.errorbar(x=groups, y=conversion_rates, yerr=yerr, fmt='o', color='black', capsize=5, label='95% Confidence Interval')\n",
    "\n",
    "plt.title('Conversion Rates by Test Group with 95% Confidence Intervals')\n",
    "plt.xlabel('Test Group')\n",
    "plt.ylabel('Conversion Rate')\n",
    "plt.ylim(0, max(max(ci_upper), 0.2) + 0.05) # Adjust y-lim for better visualization\n",
    "plt.grid(axis='y', linestyle='--', alpha=0.7)\n",
    "plt.legend()\n",
    "plt.show()"
   ]
  },
  {
   "cell_type": "code",
   "execution_count": 101,
   "id": "fec05574",
   "metadata": {},
   "outputs": [
    {
     "data": {
      "text/plain": [
       "15023.957268893348"
      ]
     },
     "execution_count": 101,
     "metadata": {},
     "output_type": "execute_result"
    }
   ],
   "source": [
    "#Objective (ii): Estimate Potential Revenue Generated from Ads\n",
    "#Define Average Revenue Per Sale (ARPS):\n",
    "#Let's assume, for example, that each conversion generates an average of $50 in revenue. \n",
    "#(this number could be got from business intelligence or past sales data).\n",
    "\n",
    "ARPS = 50\n",
    "#Calculate Estimated Total Conversions from Ads (if applied to the whole user base):\n",
    "total_users = df.shape[0]\n",
    "projected_ad_conversions = total_users * conversion_rate_ad   #(using the conversion rate from the 'ad' group)\n",
    "projected_ad_conversions"
   ]
  },
  {
   "cell_type": "code",
   "execution_count": 102,
   "id": "64b775bf",
   "metadata": {},
   "outputs": [
    {
     "data": {
      "text/plain": [
       "751197.8634446674"
      ]
     },
     "execution_count": 102,
     "metadata": {},
     "output_type": "execute_result"
    }
   ],
   "source": [
    "#Calculate Estimated Revenue:\n",
    "estimated_revenue_from_ads = projected_ad_conversions * ARPS\n",
    "estimated_revenue_from_ads\n"
   ]
  },
  {
   "cell_type": "code",
   "execution_count": null,
   "id": "298d306f",
   "metadata": {},
   "outputs": [],
   "source": []
  },
  {
   "cell_type": "code",
   "execution_count": null,
   "id": "7b36eefa",
   "metadata": {},
   "outputs": [],
   "source": [
    "#Key Findings:\n",
    "\n",
    "#Significant Uplift in Conversion: The 'ad' group demonstrated a statistically significant higher\n",
    "#conversion rate of 2.55% compared to the 'psa' group's 1.79%.\n",
    "\n",
    "#Statistical Significance: The probability of observing such a difference purely by chance is extremely low \n",
    "#(p-value = 1.705×10 −13),  confirming that the ad campaign is genuinely more effective.\n",
    "\n",
    "#Confidence in Results: We are 95% confident that the true conversion rate for users \n",
    "#exposed to the ad campaign lies between 2.51 % and 2.60%,while for the PSA group,\n",
    "# it's between 1.62% and 1.96 %.\n",
    "#These intervals do not overlap, further reinforcing the significance of our findings.\n",
    "\n",
    "\n",
    "#Estimated Revenue Impact (Based on Assumption):\n",
    "\n",
    "#Given the proven higher conversion rate of the 'ad' group, and assuming an average\n",
    "#revenue per sale (ARPS) of $50 per conversion, \n",
    "#scaling this ad strategy across our user base has the potential to generate \n",
    "# $751197.86 in additional revenue (excluding ad expenses).\n"
   ]
  },
  {
   "cell_type": "code",
   "execution_count": null,
   "id": "3d74a5f6",
   "metadata": {},
   "outputs": [],
   "source": [
    "###  RECOMMENDATIONS\n",
    "\n",
    "#Full Rollout of the Ad Campaign: We recommend immediately scaling\n",
    "#the new ad campaign strategy to the broader user base. The data \n",
    "#strongly supports its effectiveness in driving conversions and, consequently, sales.\n",
    "\n",
    "#Strategic Investment in Ad Channels: Based on the success of this\n",
    "#campaign, we should explore increased investment in the channels and \n",
    "#placements where these ads are being shown. Further analysis into the most ads day and most ads\n",
    "#hour data could provide insights for optimizing ad timing and maximizing efficiency.\n",
    "\n",
    "#Further Optimization and Segmentation:\n",
    "\n",
    "#Drill Down into User Behavior: Investigate if certain user segments\n",
    "#(e.g., users who saw more ads, users who saw ads on specific days/hours) \n",
    "#responded even better. This can inform future, more targeted ad strategies.\n",
    "\n",
    "#Test New Ad Creatives/Messaging: While the current ad strategy \n",
    "#is effective, we should continuously experiment with new ad creatives,\n",
    "#messaging, and offers to identify further opportunities for conversion rate optimization.\n",
    "\n",
    "#Establish Clear Revenue Tracking for Ads: To precisely quantify the financial \n",
    "#return on ad spend, we should ensure robust tracking of revenue generated directly from ad-driven conversions. \n",
    "#This will allow for more accurate ROI calculations in future analyses.\n",
    "\n"
   ]
  },
  {
   "cell_type": "code",
   "execution_count": null,
   "id": "3a86f303",
   "metadata": {},
   "outputs": [],
   "source": []
  }
 ],
 "metadata": {
  "kernelspec": {
   "display_name": "Python 3 (ipykernel)",
   "language": "python",
   "name": "python3"
  },
  "language_info": {
   "codemirror_mode": {
    "name": "ipython",
    "version": 3
   },
   "file_extension": ".py",
   "mimetype": "text/x-python",
   "name": "python",
   "nbconvert_exporter": "python",
   "pygments_lexer": "ipython3",
   "version": "3.11.5"
  }
 },
 "nbformat": 4,
 "nbformat_minor": 5
}
